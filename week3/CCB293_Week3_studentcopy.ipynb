{
  "nbformat": 4,
  "nbformat_minor": 0,
  "metadata": {
    "colab": {
      "provenance": [],
      "collapsed_sections": [
        "xlggFDWQQsaf",
        "3fiJYnPtHOlI",
        "ULFBCDmESw4c"
      ]
    },
    "kernelspec": {
      "display_name": "Python 3",
      "language": "python",
      "name": "python3"
    },
    "language_info": {
      "codemirror_mode": {
        "name": "ipython",
        "version": 3
      },
      "file_extension": ".py",
      "mimetype": "text/x-python",
      "name": "python",
      "nbconvert_exporter": "python",
      "pygments_lexer": "ipython3",
      "version": "3.8.3"
    }
  },
  "cells": [
    {
      "cell_type": "markdown",
      "metadata": {
        "id": "0pZjroFpQsad"
      },
      "source": [
        "## Week 3: Tutorial"
      ]
    },
    {
      "cell_type": "markdown",
      "metadata": {
        "id": "LoT2HtKrQsae"
      },
      "source": [
        "## Goal: Investigate archaic ancestry in modern humans"
      ]
    },
    {
      "cell_type": "markdown",
      "metadata": {
        "id": "xlggFDWQQsaf"
      },
      "source": [
        "### Set your individual"
      ]
    },
    {
      "cell_type": "code",
      "metadata": {
        "id": "F5b-fuLk7lBo"
      },
      "source": [
        "# REPLACE with your individual\n",
        "my_individual = 'NA18974'"
      ],
      "execution_count": null,
      "outputs": []
    },
    {
      "cell_type": "markdown",
      "metadata": {
        "id": "3fiJYnPtHOlI"
      },
      "source": [
        "## Installing requirements"
      ]
    },
    {
      "cell_type": "markdown",
      "metadata": {
        "id": "XeBEB4OkdRVi"
      },
      "source": [
        "Connect to Github and load the necessary data and tools (runtime: 2min)"
      ]
    },
    {
      "cell_type": "code",
      "source": [
        "# install bcftools\n",
        "%%bash\n",
        "cd /content/\n",
        "rm -rf Spring-2024 IBDmix\n",
        "git clone https://github.com/CCB293/Spring-2024\n",
        "git clone https://github.com/PrincetonUniversity/IBDmix.git\n",
        "cd IBDmix\n",
        "mkdir build\n",
        "cd build\n",
        "cmake ..\n",
        "cmake --build .\n",
        "cd /content/\n",
        "ln -s /content/IBDmix/build/src/ibdmix /content/Spring-2024/bin/ibdmix\n",
        "export LD_LIBARY_PATH=/usr/lib/x86_64-linux-gnu:$LD_LIBRARY_PATH\n",
        "apt install libgsl-dev\n",
        "ln -s /usr/lib/x86_64-linux-gnu/libgsl.so /usr/lib/x86_64-linux-gnu/libgsl.so.0\n",
        "cd /content\n",
        "chmod +x Spring-2024/bin/smartpca\n",
        "chmod +x Spring-2024/bin/admixture\n",
        "chmod +x Spring-2024/bin/tabix\n",
        "chmod +x Spring-2024/bin/vcftools\n",
        "chmod +x Spring-2024/bin/bcftools\n",
        "cd Spring-2024/data/1000G_archaic/ && unzip 1000G_archaic.geno.zip && gunzip altai_22_sub.gz\n",
        "echo \"Packages installed\""
      ],
      "metadata": {
        "id": "9NfHtNPexmEr"
      },
      "execution_count": null,
      "outputs": []
    },
    {
      "cell_type": "code",
      "metadata": {
        "id": "wuDs7KIdHqB6"
      },
      "source": [
        "# load the libraries\n",
        "import matplotlib.pyplot as plt\n",
        "from collections import Counter\n",
        "import numpy as np\n",
        "import pandas as pd\n",
        "import colorsys\n",
        "import seaborn as sns\n",
        "from IPython.display import Image\n",
        "import os\n",
        "import json"
      ],
      "execution_count": null,
      "outputs": []
    },
    {
      "cell_type": "markdown",
      "metadata": {
        "id": "RcKfbjTvdanI"
      },
      "source": [
        "Define plotting functions"
      ]
    },
    {
      "cell_type": "code",
      "metadata": {
        "id": "Io8WDoS3MPpH"
      },
      "source": [
        "# define plotting functions\n",
        "\n",
        "def plot_slod_chrom(subdf, rl, rh):\n",
        "  x =  subdf['start'].to_list() + subdf['end'].to_list()\n",
        "  x = np.array(sorted(x))\n",
        "  xp = x[(x > rl) & (x < rh)]\n",
        "  slod = subdf['slod'].to_list()\n",
        "  y = []\n",
        "  for i in slod:\n",
        "    y.append(0)\n",
        "    y.append(i)\n",
        "  y = np.array(y)\n",
        "  y = y[np.where((x > rl) & (x < rh))]\n",
        "  yp = []\n",
        "  for j in np.arange(rl, rh, 1000):\n",
        "    if len(y[np.where(xp >= j)]) > 0:\n",
        "      yp.append(y[np.where(xp >= j)][0])\n",
        "    else:\n",
        "      yp.append(y[-1])\n",
        "  plt.figure(figsize=(10, 3))\n",
        "  plt.scatter(np.arange(rl, rh, 1000), yp, s=3)\n",
        "  plt.axhline(y=4, color='red', linestyle='--')\n",
        "  plt.ylabel('slod')\n",
        "  plt.xlabel('Genomic position (bp)')\n"
      ],
      "execution_count": null,
      "outputs": []
    },
    {
      "cell_type": "code",
      "metadata": {
        "id": "BzaSNde0YLPb"
      },
      "source": [
        "# set environment variable\n",
        "import os\n",
        "os.environ['PATH'] += \":/content/Spring-2024/bin\"\n",
        "!echo $PATH\n",
        "# set current directory\n",
        "%cd /content/Spring-2024/data/1000G_archaic/"
      ],
      "execution_count": null,
      "outputs": []
    },
    {
      "cell_type": "markdown",
      "metadata": {
        "id": "ULFBCDmESw4c"
      },
      "source": [
        "# Analysis of archaic introgression\n",
        "\n",
        "## IBDmix\n",
        "Chen, Lu, et al. \"Identifying and interpreting apparent Neanderthal ancestry in African individuals.\" Cell 180.4 (2020): 677-687.\n",
        "https://www.sciencedirect.com/science/article/pii/S0092867420300593#sec4\n",
        "\n",
        "Usage: `!../../bin/ibdmix -g 'altai_22_sub' -d 0 -t -i -o 'altai_22_sub_output'`"
      ]
    },
    {
      "cell_type": "code",
      "metadata": {
        "id": "qHmmEIk6a2xP"
      },
      "source": [
        "# Main idea for identifying segments of archaic ancestry\n",
        "Image(filename='IBDmix.png', height=500)"
      ],
      "execution_count": null,
      "outputs": []
    },
    {
      "cell_type": "markdown",
      "source": [
        "$LOD = log( \\frac{P(Data | IBD)}{P(Data | nonIBD)})$\n",
        "\n",
        "Assume the observed data (for alleles A, a) is AA in Neanderthal, Aa in your individual.\n",
        "\n",
        "$P(Data | IBD) = P_O(AA, Aa | IBD)$\n",
        "\n",
        "Parameters in probability calculation:\n",
        "* mutation rate\n",
        "* divergence time between groups\n",
        "* genotyping error (sequencing, algorithm, etc.)\n",
        "\n",
        "SLOD = cumulative LOD for all SNPs in a region"
      ],
      "metadata": {
        "id": "tjFbRpPVNxsJ"
      }
    },
    {
      "cell_type": "code",
      "source": [
        "!../../bin/ibdmix --help"
      ],
      "metadata": {
        "id": "LZ6mBgdcRNwp"
      },
      "execution_count": null,
      "outputs": []
    },
    {
      "cell_type": "code",
      "source": [
        "!head -n 5 'altai_22_sub'"
      ],
      "metadata": {
        "id": "71zuM__PBn2U"
      },
      "execution_count": null,
      "outputs": []
    },
    {
      "cell_type": "markdown",
      "source": [
        "### Run IBDmix\n"
      ],
      "metadata": {
        "id": "wBxSsNo53tgV"
      }
    },
    {
      "cell_type": "code",
      "source": [
        "# -g = genotype file name, -d = LOD score threshold;\n",
        "# -t= additional summary stats, -i= regions are inclusive [start,end]\n",
        "# -o output file name\n",
        "!../../bin/ibdmix -g 'altai_22_sub' -d 0 -t -i -o 'altai_22_sub_output'"
      ],
      "metadata": {
        "id": "0sfMOsx439pf"
      },
      "execution_count": null,
      "outputs": []
    },
    {
      "cell_type": "code",
      "source": [
        "# check output file\n",
        "raw_output = pd.read_csv('altai_22_sub_output', sep='\\s+')\n",
        "raw_output.head()"
      ],
      "metadata": {
        "id": "An1kfP0gQ681"
      },
      "execution_count": null,
      "outputs": []
    },
    {
      "cell_type": "code",
      "source": [
        "# plot slod across the genome\n",
        "# function usage: plot_slod_chrom(datafram, start_pos, end_pos)\n",
        "plot_slod_chrom(raw_output[raw_output.ID == 'NA18974'], 16e6, 18e6)"
      ],
      "metadata": {
        "id": "ayx9zPYkaSGq"
      },
      "execution_count": null,
      "outputs": []
    },
    {
      "cell_type": "markdown",
      "source": [
        "Filter the data by `slod > 4`"
      ],
      "metadata": {
        "id": "w4jAR-hL2g6Z"
      }
    },
    {
      "cell_type": "code",
      "source": [
        "# filter by slod\n",
        "raw_output['length'] = raw_output['end'] - raw_output['start']\n",
        "raw_output['Archaic_proportion'] = raw_output['length'] / 2908180\n",
        "filter_slod = raw_output[raw_output.slod > 4]"
      ],
      "metadata": {
        "id": "kjn8WFMe1yR3"
      },
      "execution_count": null,
      "outputs": []
    },
    {
      "cell_type": "markdown",
      "metadata": {
        "id": "K2aKz9vcQsas"
      },
      "source": [
        "### Stop! Check your understanding\n",
        "1. How many regions are identified as IBD with Neanderthal for your individual in this subset of data?\n",
        "2. What is the mean length of 'Archaic' segments on this chromosome?"
      ]
    },
    {
      "cell_type": "code",
      "metadata": {
        "id": "N2yHHSj4Yu40"
      },
      "source": [],
      "execution_count": null,
      "outputs": []
    },
    {
      "cell_type": "code",
      "metadata": {
        "id": "qUtEN7axU1zN"
      },
      "source": [],
      "execution_count": null,
      "outputs": []
    },
    {
      "cell_type": "markdown",
      "source": [
        "### Exercise: population level summary statistics"
      ],
      "metadata": {
        "id": "LnuvU0Da3NkQ"
      }
    },
    {
      "cell_type": "markdown",
      "source": [
        "#### Merge datasets so that `filter_slod` dataframe includes population information for each individual"
      ],
      "metadata": {
        "id": "GLTcIcRR39Yn"
      }
    },
    {
      "cell_type": "code",
      "source": [
        "# Get individuals dataframe\n",
        "individuals = pd.read_csv('1000G_archaic.ind', delim_whitespace=True, header=None, names=['individual', 'sex', 'population'])\n",
        "population_info = pd.read_csv('population_info.csv')\n",
        "individuals = individuals.merge(population_info, on='population', how='left').dropna()"
      ],
      "metadata": {
        "id": "moQF1arcBNlA"
      },
      "execution_count": null,
      "outputs": []
    },
    {
      "cell_type": "code",
      "source": [
        "# merge filter_slod with individuals"
      ],
      "metadata": {
        "id": "bqh_OhkE4GsG"
      },
      "execution_count": null,
      "outputs": []
    },
    {
      "cell_type": "markdown",
      "source": [
        "#### Plot a histogram of 'Archaic' segment lengths for the population of your individual."
      ],
      "metadata": {
        "id": "XknEcwb93gyl"
      }
    },
    {
      "cell_type": "code",
      "source": [
        "#check your population"
      ],
      "metadata": {
        "id": "oGtNgA-x6e0g"
      },
      "execution_count": null,
      "outputs": []
    },
    {
      "cell_type": "code",
      "source": [
        "# histogram"
      ],
      "metadata": {
        "id": "c6xk1S7n3UTV"
      },
      "execution_count": null,
      "outputs": []
    },
    {
      "cell_type": "markdown",
      "source": [
        "#### Plot a boxplot of 'Archaic_proportion' for all continental groups\n",
        "Use `seaborn` package\n",
        "https://seaborn.pydata.org/generated/seaborn.boxplot.html"
      ],
      "metadata": {
        "id": "n6lT9Yy33uJK"
      }
    },
    {
      "cell_type": "code",
      "source": [
        "# boxplot\n",
        "import seaborn as sns\n"
      ],
      "metadata": {
        "id": "ObvKRXce34e6"
      },
      "execution_count": null,
      "outputs": []
    },
    {
      "cell_type": "code",
      "source": [
        "# remove outliers to make the figure better\n"
      ],
      "metadata": {
        "id": "BlnvKJfj7_j-"
      },
      "execution_count": null,
      "outputs": []
    },
    {
      "cell_type": "markdown",
      "source": [
        "### Plot a boxplot of 'Archaic_proportion' for all populations of your continental group"
      ],
      "metadata": {
        "id": "bA3garFcFbwB"
      }
    },
    {
      "cell_type": "code",
      "source": [
        "# boxplot"
      ],
      "metadata": {
        "id": "1FztK6JVFjJI"
      },
      "execution_count": null,
      "outputs": []
    },
    {
      "cell_type": "code",
      "source": [
        "# remove outliers to make the figure better"
      ],
      "metadata": {
        "id": "V9wI4L9QFkxk"
      },
      "execution_count": null,
      "outputs": []
    }
  ]
}
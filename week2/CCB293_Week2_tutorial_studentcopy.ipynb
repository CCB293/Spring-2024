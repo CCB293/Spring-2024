{
  "nbformat": 4,
  "nbformat_minor": 0,
  "metadata": {
    "colab": {
      "provenance": [],
      "collapsed_sections": [
        "tlj0C2TsLjY6",
        "Gz_VlB7XNNXI",
        "Yg7lBXs1rypz",
        "2hNtOfVUO_JV"
      ]
    },
    "kernelspec": {
      "name": "python3",
      "display_name": "Python 3"
    },
    "language_info": {
      "name": "python"
    }
  },
  "cells": [
    {
      "cell_type": "markdown",
      "source": [
        "# Week 2: Tutorial\n",
        "# Our genomes, our selves: Ancestry Inference"
      ],
      "metadata": {
        "id": "RoI2sQYILYM_"
      }
    },
    {
      "cell_type": "markdown",
      "source": [
        "### Set your individual"
      ],
      "metadata": {
        "id": "-30I21zgLcK0"
      }
    },
    {
      "cell_type": "code",
      "execution_count": 8,
      "metadata": {
        "id": "ccLCNSK3LNAT"
      },
      "outputs": [],
      "source": [
        "# REPLACE with your individual ID\n",
        "my_individual = 'NA18525'"
      ]
    },
    {
      "cell_type": "markdown",
      "source": [
        "## Installing packaging and linking to data on github (runtime: 2m)"
      ],
      "metadata": {
        "id": "tlj0C2TsLjY6"
      }
    },
    {
      "cell_type": "code",
      "source": [
        "%cd /content/\n",
        "!rm -rf Spring-2024"
      ],
      "metadata": {
        "colab": {
          "base_uri": "https://localhost:8080/"
        },
        "id": "F9wkSIwYwNHw",
        "outputId": "c8e95e41-3fb4-4769-f1e9-2d4a86e4d875"
      },
      "execution_count": 9,
      "outputs": [
        {
          "output_type": "stream",
          "name": "stdout",
          "text": [
            "/content\n"
          ]
        }
      ]
    },
    {
      "cell_type": "code",
      "source": [
        "# %%capture\n",
        "!export LD_LIBARY_PATH=/usr/lib/x86_64-linux-gnu:$LD_LIBRARY_PATH\n",
        "!apt install libgsl-dev\n",
        "!ln -s /usr/lib/x86_64-linux-gnu/libgsl.so /usr/lib/x86_64-linux-gnu/libgsl.so.0\n",
        "!git clone https://github.com/CCB293/Spring-2024\n",
        "!chmod +x Spring-2024/bin/smartpca\n",
        "!chmod +x Spring-2024/bin/admixture\n",
        "!cd Spring-2024/data/1000G && unzip 1000G.geno.zip"
      ],
      "metadata": {
        "colab": {
          "base_uri": "https://localhost:8080/"
        },
        "id": "6ssuR0XcLlin",
        "outputId": "1e01dbcf-62c9-48b5-c869-a0fcc776f16a"
      },
      "execution_count": 10,
      "outputs": [
        {
          "output_type": "stream",
          "name": "stdout",
          "text": [
            "Reading package lists... Done\n",
            "Building dependency tree... Done\n",
            "Reading state information... Done\n",
            "libgsl-dev is already the newest version (2.7.1+dfsg-3).\n",
            "0 upgraded, 0 newly installed, 0 to remove and 30 not upgraded.\n",
            "ln: failed to create symbolic link '/usr/lib/x86_64-linux-gnu/libgsl.so.0': File exists\n",
            "Cloning into 'Spring-2024'...\n",
            "remote: Enumerating objects: 134, done.\u001b[K\n",
            "remote: Counting objects: 100% (61/61), done.\u001b[K\n",
            "remote: Compressing objects: 100% (38/38), done.\u001b[K\n",
            "remote: Total 134 (delta 27), reused 50 (delta 19), pack-reused 73\u001b[K\n",
            "Receiving objects: 100% (134/134), 91.09 MiB | 26.51 MiB/s, done.\n",
            "Resolving deltas: 100% (36/36), done.\n",
            "Archive:  1000G.geno.zip\n",
            "  inflating: 1000G.geno              \n"
          ]
        }
      ]
    },
    {
      "cell_type": "code",
      "source": [
        "# load the libraries\n",
        "import matplotlib.pyplot as plt\n",
        "from collections import Counter\n",
        "import numpy as np\n",
        "import pandas as pd\n",
        "import colorsys\n",
        "import seaborn as sns\n",
        "from IPython.display import Image\n",
        "import os"
      ],
      "metadata": {
        "id": "tL4y2hPfLozR"
      },
      "execution_count": 11,
      "outputs": []
    },
    {
      "cell_type": "code",
      "source": [
        "# define plotting functions\n",
        "\n",
        "def plot_pcs(pcs, I, J, labels, indivs=None):\n",
        "    PCI = 'PC{}'.format(I)\n",
        "    PCJ = 'PC{}'.format(J)\n",
        "    plt.figure(figsize=(10,10))\n",
        "    #colors = [colorsys.hsv_to_rgb(h,0.9,0.7) for h in np.linspace(0,1,len(np.unique(labels))+1)[:-1]]\n",
        "    #colors = ['#acc2d9', '#653700', '#b2996e', '#a8ff04', 'xkcd:orange', '#894585',\n",
        "    #          '#70b23f', '#d4ffff', '#65ab7c', '#952e8f', '#fcfc81', '#a5a391',\n",
        "    #          '#388004', '#4c9085', '#5e9b8a', '#efb435', '#d99b82', '#0a5f38',\n",
        "    #          '#0c06f7', '#61de2a', '#3778bf', '#2242c7', '#533cc6', '#9bb53c',\n",
        "    #          '#05ffa6', '#1f6357', '#017374', '#0cb577']\n",
        "\n",
        "    colors = [\n",
        "        \"#7e1e9c\", \"#15b01a\", \"#0343df\", \"#ff81c0\",\"#653700\",\"#e50000\",\"#029386\",\n",
        "        \"#f97306\", \"#96f97b\", \"#c20078\", \"#ffff14\", \"#95d0fc\", \"#929591\",\n",
        "        \"#9a0eea\",\n",
        "        \"#033500\",\n",
        "        \"#00035b\",\n",
        "        \"#06c2ac\",\n",
        "        \"#d1b26f\",\n",
        "        \"#00ffff\",\n",
        "        \"#650021\",\n",
        "        \"#ffb07c\",\n",
        "        \"#ff796c\",\n",
        "        \"#36013f\",\n",
        "        \"#c65102\",\n",
        "        \"#000000\",\n",
        "        \"#c1f80a\",\n",
        "        \"#4b5d16\",\n",
        "        \"#0652ff\"\n",
        "    ]\n",
        "\n",
        "\n",
        "    print(len(np.unique(labels)))\n",
        "    for i, p in enumerate(np.unique(labels)):\n",
        "        pcs_p = pcs[labels==p]\n",
        "        plt.scatter(pcs_p[PCI], pcs_p[PCJ], label=p, color=colors[i])\n",
        "    plt.legend(loc=(1.04,0))\n",
        "    if indivs is not None:\n",
        "        for individual in indivs:\n",
        "            pcs_i = pcs[pcs.Sample==individual]\n",
        "            plt.annotate(individual, [pcs_i[PCI], pcs_i[PCJ]])\n",
        "            plt.plot(pcs_i[PCI], pcs_i[PCJ], 'o', color='black')\n",
        "    plt.xlabel(PCI)\n",
        "    plt.ylabel(PCJ);\n",
        "\n",
        "\n",
        "def plot_admixture(admixture, population_indices, population_labels):\n",
        "    plot = plt\n",
        "\n",
        "    N,K = admixture.shape\n",
        "    colors = [colorsys.hsv_to_rgb(h,0.9,0.7) for h in np.linspace(0,1,K+1)[:-1]]\n",
        "    text_color = 'k'\n",
        "    bg_color = 'w'\n",
        "    fontsize = 24\n",
        "\n",
        "    figure = plot.figure(figsize=(5,3))\n",
        "\n",
        "    xmin = 0.13\n",
        "    ymin = 0.2\n",
        "    height = 1.2#0.6\n",
        "    width = 1.5#0.74\n",
        "    indiv_width = width/N\n",
        "    subplot = figure.add_axes([xmin,ymin,width,height])\n",
        "    [spine.set_linewidth(0.001) for spine in subplot.spines.values()]\n",
        "\n",
        "    for k in np.arange(K):\n",
        "        if k:\n",
        "            bottoms = admixture[:,:k].sum(1)\n",
        "        else:\n",
        "            bottoms = np.zeros((N,),dtype=float)\n",
        "\n",
        "        lefts = np.arange(N)*indiv_width\n",
        "        subplot.bar(lefts, admixture[:,k], width=indiv_width, bottom=bottoms, facecolor=colors[k], edgecolor=colors[k], linewidth=0.4)\n",
        "\n",
        "        subplot.axis([0, N*indiv_width, 0, 1])\n",
        "        subplot.tick_params(axis='both', top=False, right=False, left=False, bottom=False)\n",
        "        xtick_labels = tuple(map(str,['']*N))\n",
        "        subplot.set_xticklabels(xtick_labels)\n",
        "        ytick_labels = tuple(map(str,['']*K))\n",
        "        subplot.set_yticklabels(ytick_labels)\n",
        "\n",
        "    for p,popname in enumerate(population_labels):\n",
        "        indices = np.where(population_indices==p)[0]\n",
        "        if indices.size>0:\n",
        "            vline_pos = (indices.max()+1)*indiv_width\n",
        "            subplot.axvline(vline_pos, linestyle='-', linewidth=0.2, c='#888888')\n",
        "            label_position = (xmin+(2*indices.min()+indices.size)*0.5*indiv_width, ymin-0.01)\n",
        "            figure.text(label_position[0], label_position[1], popname, fontsize=12, color='k', \\\n",
        "                horizontalalignment='right', verticalalignment='top', rotation=70)\n",
        "\n",
        "    return figure\n",
        "\n",
        "def plot_admix_individual(admix, individual):\n",
        "    K = admix.shape[1]\n",
        "    colors = [colorsys.hsv_to_rgb(h,0.9,0.7) for h in np.linspace(0,1,K+1)[:-1]]\n",
        "    plt.pie(admix[individuals.individual==individual][0], colors=colors)\n",
        "    plt.title(individual);"
      ],
      "metadata": {
        "id": "XgT_0mQyLqna"
      },
      "execution_count": 12,
      "outputs": []
    },
    {
      "cell_type": "code",
      "source": [
        "# set current directory\n",
        "%cd Spring-2024/data/1000G/"
      ],
      "metadata": {
        "colab": {
          "base_uri": "https://localhost:8080/"
        },
        "id": "_YjetLJFLuHy",
        "outputId": "ec53bf0c-09bf-4abd-b2be-cffa9758f41e"
      },
      "execution_count": 13,
      "outputs": [
        {
          "output_type": "stream",
          "name": "stdout",
          "text": [
            "/content/Spring-2024/data/1000G\n"
          ]
        }
      ]
    },
    {
      "cell_type": "markdown",
      "source": [
        "## Exploring data: 1000 Genomes Project (1000G)\n",
        "1000 Genomes Project Consortium. (2015). A global reference for human genetic variation. Nature, 526(7571), 68.\n",
        "https://www.ncbi.nlm.nih.gov/pmc/articles/PMC4750478/"
      ],
      "metadata": {
        "id": "BJ9DX1MrMjXF"
      }
    },
    {
      "cell_type": "code",
      "source": [
        "from IPython.display import Image\n",
        "Image(filename='1000G.png',width=700)"
      ],
      "metadata": {
        "colab": {
          "base_uri": "https://localhost:8080/",
          "height": 432
        },
        "id": "_IKPbV-8MmQm",
        "outputId": "408cc15e-ce7c-43ef-a649-97ed7510bb27"
      },
      "execution_count": 14,
      "outputs": [
        {
          "output_type": "execute_result",
          "data": {
            "image/png": "[encoded data removed]",
            "text/plain": [
              "<IPython.core.display.Image object>"
            ]
          },
          "metadata": {
            "image/png": {
              "width": 700
            }
          },
          "execution_count": 14
        }
      ]
    },
    {
      "cell_type": "markdown",
      "source": [
        "### Individual File.\n",
        "For more information about file formats, refer to: https://reich.hms.harvard.edu/software/InputFileFormats"
      ],
      "metadata": {
        "id": "F0l707g4MpB4"
      }
    },
    {
      "cell_type": "code",
      "source": [
        "individuals = pd.read_csv('1000G.ind', delim_whitespace=True, header=None, names=['individual', 'sex', 'population'])\n",
        "individuals.head()"
      ],
      "metadata": {
        "colab": {
          "base_uri": "https://localhost:8080/",
          "height": 206
        },
        "id": "ePpLPacfMvgN",
        "outputId": "1ee759f9-ef06-4425-f000-f7feaf29c95f"
      },
      "execution_count": 15,
      "outputs": [
        {
          "output_type": "execute_result",
          "data": {
            "text/plain": [
              "  individual sex population\n",
              "0    HG00096   m        GBR\n",
              "1    HG00097   f        GBR\n",
              "2    HG00099   f        GBR\n",
              "3    HG00100   f        GBR\n",
              "4    HG00101   m        GBR"
            ],
            "text/html": [
              "\n",
              "  <div id=\"df-8e044e82-5f2a-40df-bff3-2ec511322746\" class=\"colab-df-container\">\n",
              "    <div>\n",
              "<style scoped>\n",
              "    .dataframe tbody tr th:only-of-type {\n",
              "        vertical-align: middle;\n",
              "    }\n",
              "\n",
              "    .dataframe tbody tr th {\n",
              "        vertical-align: top;\n",
              "    }\n",
              "\n",
              "    .dataframe thead th {\n",
              "        text-align: right;\n",
              "    }\n",
              "</style>\n",
              "<table border=\"1\" class=\"dataframe\">\n",
              "  <thead>\n",
              "    <tr style=\"text-align: right;\">\n",
              "      <th></th>\n",
              "      <th>individual</th>\n",
              "      <th>sex</th>\n",
              "      <th>population</th>\n",
              "    </tr>\n",
              "  </thead>\n",
              "  <tbody>\n",
              "    <tr>\n",
              "      <th>0</th>\n",
              "      <td>HG00096</td>\n",
              "      <td>m</td>\n",
              "      <td>GBR</td>\n",
              "    </tr>\n",
              "    <tr>\n",
              "      <th>1</th>\n",
              "      <td>HG00097</td>\n",
              "      <td>f</td>\n",
              "      <td>GBR</td>\n",
              "    </tr>\n",
              "    <tr>\n",
              "      <th>2</th>\n",
              "      <td>HG00099</td>\n",
              "      <td>f</td>\n",
              "      <td>GBR</td>\n",
              "    </tr>\n",
              "    <tr>\n",
              "      <th>3</th>\n",
              "      <td>HG00100</td>\n",
              "      <td>f</td>\n",
              "      <td>GBR</td>\n",
              "    </tr>\n",
              "    <tr>\n",
              "      <th>4</th>\n",
              "      <td>HG00101</td>\n",
              "      <td>m</td>\n",
              "      <td>GBR</td>\n",
              "    </tr>\n",
              "  </tbody>\n",
              "</table>\n",
              "</div>\n",
              "    <div class=\"colab-df-buttons\">\n",
              "\n",
              "  <div class=\"colab-df-container\">\n",
              "    <button class=\"colab-df-convert\" onclick=\"convertToInteractive('df-8e044e82-5f2a-40df-bff3-2ec511322746')\"\n",
              "            title=\"Convert this dataframe to an interactive table.\"\n",
              "            style=\"display:none;\">\n",
              "\n",
              "  <svg xmlns=\"http://www.w3.org/2000/svg\" height=\"24px\" viewBox=\"0 -960 960 960\">\n",
              "    <path d=\"M120-120v-720h720v720H120Zm60-500h600v-160H180v160Zm220 220h160v-160H400v160Zm0 220h160v-160H400v160ZM180-400h160v-160H180v160Zm440 0h160v-160H620v160ZM180-180h160v-160H180v160Zm440 0h160v-160H620v160Z\"/>\n",
              "  </svg>\n",
              "    </button>\n",
              "\n",
              "  <style>\n",
              "    .colab-df-container {\n",
              "      display:flex;\n",
              "      gap: 12px;\n",
              "    }\n",
              "\n",
              "    .colab-df-convert {\n",
              "      background-color: #E8F0FE;\n",
              "      border: none;\n",
              "      border-radius: 50%;\n",
              "      cursor: pointer;\n",
              "      display: none;\n",
              "      fill: #1967D2;\n",
              "      height: 32px;\n",
              "      padding: 0 0 0 0;\n",
              "      width: 32px;\n",
              "    }\n",
              "\n",
              "    .colab-df-convert:hover {\n",
              "      background-color: #E2EBFA;\n",
              "      box-shadow: 0px 1px 2px rgba(60, 64, 67, 0.3), 0px 1px 3px 1px rgba(60, 64, 67, 0.15);\n",
              "      fill: #174EA6;\n",
              "    }\n",
              "\n",
              "    .colab-df-buttons div {\n",
              "      margin-bottom: 4px;\n",
              "    }\n",
              "\n",
              "    [theme=dark] .colab-df-convert {\n",
              "      background-color: #3B4455;\n",
              "      fill: #D2E3FC;\n",
              "    }\n",
              "\n",
              "    [theme=dark] .colab-df-convert:hover {\n",
              "      background-color: #434B5C;\n",
              "      box-shadow: 0px 1px 3px 1px rgba(0, 0, 0, 0.15);\n",
              "      filter: drop-shadow(0px 1px 2px rgba(0, 0, 0, 0.3));\n",
              "      fill: #FFFFFF;\n",
              "    }\n",
              "  </style>\n",
              "\n",
              "    <script>\n",
              "      const buttonEl =\n",
              "        document.querySelector('#df-8e044e82-5f2a-40df-bff3-2ec511322746 button.colab-df-convert');\n",
              "      buttonEl.style.display =\n",
              "        google.colab.kernel.accessAllowed ? 'block' : 'none';\n",
              "\n",
              "      async function convertToInteractive(key) {\n",
              "        const element = document.querySelector('#df-8e044e82-5f2a-40df-bff3-2ec511322746');\n",
              "        const dataTable =\n",
              "          await google.colab.kernel.invokeFunction('convertToInteractive',\n",
              "                                                    [key], {});\n",
              "        if (!dataTable) return;\n",
              "\n",
              "        const docLinkHtml = 'Like what you see? Visit the ' +\n",
              "          '<a target=\"_blank\" href=https://colab.research.google.com/notebooks/data_table.ipynb>data table notebook</a>'\n",
              "          + ' to learn more about interactive tables.';\n",
              "        element.innerHTML = '';\n",
              "        dataTable['output_type'] = 'display_data';\n",
              "        await google.colab.output.renderOutput(dataTable, element);\n",
              "        const docLink = document.createElement('div');\n",
              "        docLink.innerHTML = docLinkHtml;\n",
              "        element.appendChild(docLink);\n",
              "      }\n",
              "    </script>\n",
              "  </div>\n",
              "\n",
              "\n",
              "<div id=\"df-6ee715dd-2991-4a32-bbad-c11c3953bb40\">\n",
              "  <button class=\"colab-df-quickchart\" onclick=\"quickchart('df-6ee715dd-2991-4a32-bbad-c11c3953bb40')\"\n",
              "            title=\"Suggest charts\"\n",
              "            style=\"display:none;\">\n",
              "\n",
              "<svg xmlns=\"http://www.w3.org/2000/svg\" height=\"24px\"viewBox=\"0 0 24 24\"\n",
              "     width=\"24px\">\n",
              "    <g>\n",
              "        <path d=\"M19 3H5c-1.1 0-2 .9-2 2v14c0 1.1.9 2 2 2h14c1.1 0 2-.9 2-2V5c0-1.1-.9-2-2-2zM9 17H7v-7h2v7zm4 0h-2V7h2v10zm4 0h-2v-4h2v4z\"/>\n",
              "    </g>\n",
              "</svg>\n",
              "  </button>\n",
              "\n",
              "<style>\n",
              "  .colab-df-quickchart {\n",
              "      --bg-color: #E8F0FE;\n",
              "      --fill-color: #1967D2;\n",
              "      --hover-bg-color: #E2EBFA;\n",
              "      --hover-fill-color: #174EA6;\n",
              "      --disabled-fill-color: #AAA;\n",
              "      --disabled-bg-color: #DDD;\n",
              "  }\n",
              "\n",
              "  [theme=dark] .colab-df-quickchart {\n",
              "      --bg-color: #3B4455;\n",
              "      --fill-color: #D2E3FC;\n",
              "      --hover-bg-color: #434B5C;\n",
              "      --hover-fill-color: #FFFFFF;\n",
              "      --disabled-bg-color: #3B4455;\n",
              "      --disabled-fill-color: #666;\n",
              "  }\n",
              "\n",
              "  .colab-df-quickchart {\n",
              "    background-color: var(--bg-color);\n",
              "    border: none;\n",
              "    border-radius: 50%;\n",
              "    cursor: pointer;\n",
              "    display: none;\n",
              "    fill: var(--fill-color);\n",
              "    height: 32px;\n",
              "    padding: 0;\n",
              "    width: 32px;\n",
              "  }\n",
              "\n",
              "  .colab-df-quickchart:hover {\n",
              "    background-color: var(--hover-bg-color);\n",
              "    box-shadow: 0 1px 2px rgba(60, 64, 67, 0.3), 0 1px 3px 1px rgba(60, 64, 67, 0.15);\n",
              "    fill: var(--button-hover-fill-color);\n",
              "  }\n",
              "\n",
              "  .colab-df-quickchart-complete:disabled,\n",
              "  .colab-df-quickchart-complete:disabled:hover {\n",
              "    background-color: var(--disabled-bg-color);\n",
              "    fill: var(--disabled-fill-color);\n",
              "    box-shadow: none;\n",
              "  }\n",
              "\n",
              "  .colab-df-spinner {\n",
              "    border: 2px solid var(--fill-color);\n",
              "    border-color: transparent;\n",
              "    border-bottom-color: var(--fill-color);\n",
              "    animation:\n",
              "      spin 1s steps(1) infinite;\n",
              "  }\n",
              "\n",
              "  @keyframes spin {\n",
              "    0% {\n",
              "      border-color: transparent;\n",
              "      border-bottom-color: var(--fill-color);\n",
              "      border-left-color: var(--fill-color);\n",
              "    }\n",
              "    20% {\n",
              "      border-color: transparent;\n",
              "      border-left-color: var(--fill-color);\n",
              "      border-top-color: var(--fill-color);\n",
              "    }\n",
              "    30% {\n",
              "      border-color: transparent;\n",
              "      border-left-color: var(--fill-color);\n",
              "      border-top-color: var(--fill-color);\n",
              "      border-right-color: var(--fill-color);\n",
              "    }\n",
              "    40% {\n",
              "      border-color: transparent;\n",
              "      border-right-color: var(--fill-color);\n",
              "      border-top-color: var(--fill-color);\n",
              "    }\n",
              "    60% {\n",
              "      border-color: transparent;\n",
              "      border-right-color: var(--fill-color);\n",
              "    }\n",
              "    80% {\n",
              "      border-color: transparent;\n",
              "      border-right-color: var(--fill-color);\n",
              "      border-bottom-color: var(--fill-color);\n",
              "    }\n",
              "    90% {\n",
              "      border-color: transparent;\n",
              "      border-bottom-color: var(--fill-color);\n",
              "    }\n",
              "  }\n",
              "</style>\n",
              "\n",
              "  <script>\n",
              "    async function quickchart(key) {\n",
              "      const quickchartButtonEl =\n",
              "        document.querySelector('#' + key + ' button');\n",
              "      quickchartButtonEl.disabled = true;  // To prevent multiple clicks.\n",
              "      quickchartButtonEl.classList.add('colab-df-spinner');\n",
              "      try {\n",
              "        const charts = await google.colab.kernel.invokeFunction(\n",
              "            'suggestCharts', [key], {});\n",
              "      } catch (error) {\n",
              "        console.error('Error during call to suggestCharts:', error);\n",
              "      }\n",
              "      quickchartButtonEl.classList.remove('colab-df-spinner');\n",
              "      quickchartButtonEl.classList.add('colab-df-quickchart-complete');\n",
              "    }\n",
              "    (() => {\n",
              "      let quickchartButtonEl =\n",
              "        document.querySelector('#df-6ee715dd-2991-4a32-bbad-c11c3953bb40 button');\n",
              "      quickchartButtonEl.style.display =\n",
              "        google.colab.kernel.accessAllowed ? 'block' : 'none';\n",
              "    })();\n",
              "  </script>\n",
              "</div>\n",
              "    </div>\n",
              "  </div>\n"
            ]
          },
          "metadata": {},
          "execution_count": 15
        }
      ]
    },
    {
      "cell_type": "markdown",
      "source": [
        "**1000 Genomes superpopulations:** <br>\n",
        "&emsp;&emsp;AFR = Africa<br>\n",
        "&emsp;&emsp;EUR = Europe<br>\n",
        "&emsp;&emsp;SAS = South Asia<br>\n",
        "&emsp;&emsp;EAS = East Asia<br>\n",
        "&emsp;&emsp;AMR = Americas<br>"
      ],
      "metadata": {
        "id": "yN_BRm9rM5S0"
      }
    },
    {
      "cell_type": "code",
      "source": [
        "# merge with population_info file\n",
        "population_info = pd.read_csv('population_info.csv')\n",
        "individuals = individuals.merge(population_info, on='population', how='left')\n",
        "individuals.population = individuals.population.astype('category')\n",
        "individuals.super_population = pd.Categorical(\n",
        "    individuals.super_population,\n",
        "    categories=['AFR', 'EUR', 'SAS', 'EAS', 'AMR'],\n",
        "    ordered=True)\n",
        "# sort individuals by population\n",
        "individuals = individuals.sort_values(['super_population', 'population'])\n",
        "# order individual indexes\n",
        "order = individuals.index\n",
        "# Set my_individual's continental group\n",
        "my_individual_index = np.where(individuals.individual==my_individual)[0][0]\n",
        "my_continental_group = individuals.iloc[my_individual_index].super_population\n",
        "\n",
        "# show final dataframe\n",
        "individuals.tail()"
      ],
      "metadata": {
        "colab": {
          "base_uri": "https://localhost:8080/",
          "height": 206
        },
        "id": "b0fRy6I2M_KW",
        "outputId": "2127cc71-fc0d-4139-ee83-7f330cb2a223"
      },
      "execution_count": 16,
      "outputs": [
        {
          "output_type": "execute_result",
          "data": {
            "text/plain": [
              "    individual sex population                     description super_population\n",
              "466    HG01403   f        PUR  Puerto Ricans from Puerto Rico              AMR\n",
              "467    HG01405   m        PUR  Puerto Ricans from Puerto Rico              AMR\n",
              "468    HG01412   m        PUR  Puerto Ricans from Puerto Rico              AMR\n",
              "469    HG01413   m        PUR  Puerto Ricans from Puerto Rico              AMR\n",
              "470    HG01414   f        PUR  Puerto Ricans from Puerto Rico              AMR"
            ],
            "text/html": [
              "\n",
              "  <div id=\"df-279b9e08-9d04-41cd-b23c-8d73466032d4\" class=\"colab-df-container\">\n",
              "    <div>\n",
              "<style scoped>\n",
              "    .dataframe tbody tr th:only-of-type {\n",
              "        vertical-align: middle;\n",
              "    }\n",
              "\n",
              "    .dataframe tbody tr th {\n",
              "        vertical-align: top;\n",
              "    }\n",
              "\n",
              "    .dataframe thead th {\n",
              "        text-align: right;\n",
              "    }\n",
              "</style>\n",
              "<table border=\"1\" class=\"dataframe\">\n",
              "  <thead>\n",
              "    <tr style=\"text-align: right;\">\n",
              "      <th></th>\n",
              "      <th>individual</th>\n",
              "      <th>sex</th>\n",
              "      <th>population</th>\n",
              "      <th>description</th>\n",
              "      <th>super_population</th>\n",
              "    </tr>\n",
              "  </thead>\n",
              "  <tbody>\n",
              "    <tr>\n",
              "      <th>466</th>\n",
              "      <td>HG01403</td>\n",
              "      <td>f</td>\n",
              "      <td>PUR</td>\n",
              "      <td>Puerto Ricans from Puerto Rico</td>\n",
              "      <td>AMR</td>\n",
              "    </tr>\n",
              "    <tr>\n",
              "      <th>467</th>\n",
              "      <td>HG01405</td>\n",
              "      <td>m</td>\n",
              "      <td>PUR</td>\n",
              "      <td>Puerto Ricans from Puerto Rico</td>\n",
              "      <td>AMR</td>\n",
              "    </tr>\n",
              "    <tr>\n",
              "      <th>468</th>\n",
              "      <td>HG01412</td>\n",
              "      <td>m</td>\n",
              "      <td>PUR</td>\n",
              "      <td>Puerto Ricans from Puerto Rico</td>\n",
              "      <td>AMR</td>\n",
              "    </tr>\n",
              "    <tr>\n",
              "      <th>469</th>\n",
              "      <td>HG01413</td>\n",
              "      <td>m</td>\n",
              "      <td>PUR</td>\n",
              "      <td>Puerto Ricans from Puerto Rico</td>\n",
              "      <td>AMR</td>\n",
              "    </tr>\n",
              "    <tr>\n",
              "      <th>470</th>\n",
              "      <td>HG01414</td>\n",
              "      <td>f</td>\n",
              "      <td>PUR</td>\n",
              "      <td>Puerto Ricans from Puerto Rico</td>\n",
              "      <td>AMR</td>\n",
              "    </tr>\n",
              "  </tbody>\n",
              "</table>\n",
              "</div>\n",
              "    <div class=\"colab-df-buttons\">\n",
              "\n",
              "  <div class=\"colab-df-container\">\n",
              "    <button class=\"colab-df-convert\" onclick=\"convertToInteractive('df-279b9e08-9d04-41cd-b23c-8d73466032d4')\"\n",
              "            title=\"Convert this dataframe to an interactive table.\"\n",
              "            style=\"display:none;\">\n",
              "\n",
              "  <svg xmlns=\"http://www.w3.org/2000/svg\" height=\"24px\" viewBox=\"0 -960 960 960\">\n",
              "    <path d=\"M120-120v-720h720v720H120Zm60-500h600v-160H180v160Zm220 220h160v-160H400v160Zm0 220h160v-160H400v160ZM180-400h160v-160H180v160Zm440 0h160v-160H620v160ZM180-180h160v-160H180v160Zm440 0h160v-160H620v160Z\"/>\n",
              "  </svg>\n",
              "    </button>\n",
              "\n",
              "  <style>\n",
              "    .colab-df-container {\n",
              "      display:flex;\n",
              "      gap: 12px;\n",
              "    }\n",
              "\n",
              "    .colab-df-convert {\n",
              "      background-color: #E8F0FE;\n",
              "      border: none;\n",
              "      border-radius: 50%;\n",
              "      cursor: pointer;\n",
              "      display: none;\n",
              "      fill: #1967D2;\n",
              "      height: 32px;\n",
              "      padding: 0 0 0 0;\n",
              "      width: 32px;\n",
              "    }\n",
              "\n",
              "    .colab-df-convert:hover {\n",
              "      background-color: #E2EBFA;\n",
              "      box-shadow: 0px 1px 2px rgba(60, 64, 67, 0.3), 0px 1px 3px 1px rgba(60, 64, 67, 0.15);\n",
              "      fill: #174EA6;\n",
              "    }\n",
              "\n",
              "    .colab-df-buttons div {\n",
              "      margin-bottom: 4px;\n",
              "    }\n",
              "\n",
              "    [theme=dark] .colab-df-convert {\n",
              "      background-color: #3B4455;\n",
              "      fill: #D2E3FC;\n",
              "    }\n",
              "\n",
              "    [theme=dark] .colab-df-convert:hover {\n",
              "      background-color: #434B5C;\n",
              "      box-shadow: 0px 1px 3px 1px rgba(0, 0, 0, 0.15);\n",
              "      filter: drop-shadow(0px 1px 2px rgba(0, 0, 0, 0.3));\n",
              "      fill: #FFFFFF;\n",
              "    }\n",
              "  </style>\n",
              "\n",
              "    <script>\n",
              "      const buttonEl =\n",
              "        document.querySelector('#df-279b9e08-9d04-41cd-b23c-8d73466032d4 button.colab-df-convert');\n",
              "      buttonEl.style.display =\n",
              "        google.colab.kernel.accessAllowed ? 'block' : 'none';\n",
              "\n",
              "      async function convertToInteractive(key) {\n",
              "        const element = document.querySelector('#df-279b9e08-9d04-41cd-b23c-8d73466032d4');\n",
              "        const dataTable =\n",
              "          await google.colab.kernel.invokeFunction('convertToInteractive',\n",
              "                                                    [key], {});\n",
              "        if (!dataTable) return;\n",
              "\n",
              "        const docLinkHtml = 'Like what you see? Visit the ' +\n",
              "          '<a target=\"_blank\" href=https://colab.research.google.com/notebooks/data_table.ipynb>data table notebook</a>'\n",
              "          + ' to learn more about interactive tables.';\n",
              "        element.innerHTML = '';\n",
              "        dataTable['output_type'] = 'display_data';\n",
              "        await google.colab.output.renderOutput(dataTable, element);\n",
              "        const docLink = document.createElement('div');\n",
              "        docLink.innerHTML = docLinkHtml;\n",
              "        element.appendChild(docLink);\n",
              "      }\n",
              "    </script>\n",
              "  </div>\n",
              "\n",
              "\n",
              "<div id=\"df-07d7c149-3860-4495-acd8-385ac5612591\">\n",
              "  <button class=\"colab-df-quickchart\" onclick=\"quickchart('df-07d7c149-3860-4495-acd8-385ac5612591')\"\n",
              "            title=\"Suggest charts\"\n",
              "            style=\"display:none;\">\n",
              "\n",
              "<svg xmlns=\"http://www.w3.org/2000/svg\" height=\"24px\"viewBox=\"0 0 24 24\"\n",
              "     width=\"24px\">\n",
              "    <g>\n",
              "        <path d=\"M19 3H5c-1.1 0-2 .9-2 2v14c0 1.1.9 2 2 2h14c1.1 0 2-.9 2-2V5c0-1.1-.9-2-2-2zM9 17H7v-7h2v7zm4 0h-2V7h2v10zm4 0h-2v-4h2v4z\"/>\n",
              "    </g>\n",
              "</svg>\n",
              "  </button>\n",
              "\n",
              "<style>\n",
              "  .colab-df-quickchart {\n",
              "      --bg-color: #E8F0FE;\n",
              "      --fill-color: #1967D2;\n",
              "      --hover-bg-color: #E2EBFA;\n",
              "      --hover-fill-color: #174EA6;\n",
              "      --disabled-fill-color: #AAA;\n",
              "      --disabled-bg-color: #DDD;\n",
              "  }\n",
              "\n",
              "  [theme=dark] .colab-df-quickchart {\n",
              "      --bg-color: #3B4455;\n",
              "      --fill-color: #D2E3FC;\n",
              "      --hover-bg-color: #434B5C;\n",
              "      --hover-fill-color: #FFFFFF;\n",
              "      --disabled-bg-color: #3B4455;\n",
              "      --disabled-fill-color: #666;\n",
              "  }\n",
              "\n",
              "  .colab-df-quickchart {\n",
              "    background-color: var(--bg-color);\n",
              "    border: none;\n",
              "    border-radius: 50%;\n",
              "    cursor: pointer;\n",
              "    display: none;\n",
              "    fill: var(--fill-color);\n",
              "    height: 32px;\n",
              "    padding: 0;\n",
              "    width: 32px;\n",
              "  }\n",
              "\n",
              "  .colab-df-quickchart:hover {\n",
              "    background-color: var(--hover-bg-color);\n",
              "    box-shadow: 0 1px 2px rgba(60, 64, 67, 0.3), 0 1px 3px 1px rgba(60, 64, 67, 0.15);\n",
              "    fill: var(--button-hover-fill-color);\n",
              "  }\n",
              "\n",
              "  .colab-df-quickchart-complete:disabled,\n",
              "  .colab-df-quickchart-complete:disabled:hover {\n",
              "    background-color: var(--disabled-bg-color);\n",
              "    fill: var(--disabled-fill-color);\n",
              "    box-shadow: none;\n",
              "  }\n",
              "\n",
              "  .colab-df-spinner {\n",
              "    border: 2px solid var(--fill-color);\n",
              "    border-color: transparent;\n",
              "    border-bottom-color: var(--fill-color);\n",
              "    animation:\n",
              "      spin 1s steps(1) infinite;\n",
              "  }\n",
              "\n",
              "  @keyframes spin {\n",
              "    0% {\n",
              "      border-color: transparent;\n",
              "      border-bottom-color: var(--fill-color);\n",
              "      border-left-color: var(--fill-color);\n",
              "    }\n",
              "    20% {\n",
              "      border-color: transparent;\n",
              "      border-left-color: var(--fill-color);\n",
              "      border-top-color: var(--fill-color);\n",
              "    }\n",
              "    30% {\n",
              "      border-color: transparent;\n",
              "      border-left-color: var(--fill-color);\n",
              "      border-top-color: var(--fill-color);\n",
              "      border-right-color: var(--fill-color);\n",
              "    }\n",
              "    40% {\n",
              "      border-color: transparent;\n",
              "      border-right-color: var(--fill-color);\n",
              "      border-top-color: var(--fill-color);\n",
              "    }\n",
              "    60% {\n",
              "      border-color: transparent;\n",
              "      border-right-color: var(--fill-color);\n",
              "    }\n",
              "    80% {\n",
              "      border-color: transparent;\n",
              "      border-right-color: var(--fill-color);\n",
              "      border-bottom-color: var(--fill-color);\n",
              "    }\n",
              "    90% {\n",
              "      border-color: transparent;\n",
              "      border-bottom-color: var(--fill-color);\n",
              "    }\n",
              "  }\n",
              "</style>\n",
              "\n",
              "  <script>\n",
              "    async function quickchart(key) {\n",
              "      const quickchartButtonEl =\n",
              "        document.querySelector('#' + key + ' button');\n",
              "      quickchartButtonEl.disabled = true;  // To prevent multiple clicks.\n",
              "      quickchartButtonEl.classList.add('colab-df-spinner');\n",
              "      try {\n",
              "        const charts = await google.colab.kernel.invokeFunction(\n",
              "            'suggestCharts', [key], {});\n",
              "      } catch (error) {\n",
              "        console.error('Error during call to suggestCharts:', error);\n",
              "      }\n",
              "      quickchartButtonEl.classList.remove('colab-df-spinner');\n",
              "      quickchartButtonEl.classList.add('colab-df-quickchart-complete');\n",
              "    }\n",
              "    (() => {\n",
              "      let quickchartButtonEl =\n",
              "        document.querySelector('#df-07d7c149-3860-4495-acd8-385ac5612591 button');\n",
              "      quickchartButtonEl.style.display =\n",
              "        google.colab.kernel.accessAllowed ? 'block' : 'none';\n",
              "    })();\n",
              "  </script>\n",
              "</div>\n",
              "    </div>\n",
              "  </div>\n"
            ]
          },
          "metadata": {},
          "execution_count": 16
        }
      ]
    },
    {
      "cell_type": "markdown",
      "source": [
        "#### Stop! Check your understanding\n",
        "1. How many individuals are there in this dataset?\n",
        "2. How many populations are there in this dataset?"
      ],
      "metadata": {
        "id": "TctHu7YoNHQ1"
      }
    },
    {
      "cell_type": "code",
      "source": [],
      "metadata": {
        "id": "QzQ4XpBusNwQ"
      },
      "execution_count": null,
      "outputs": []
    },
    {
      "cell_type": "code",
      "source": [],
      "metadata": {
        "id": "oHzlDWWYsNkz"
      },
      "execution_count": null,
      "outputs": []
    },
    {
      "cell_type": "markdown",
      "source": [
        "###SNP file"
      ],
      "metadata": {
        "id": "Gz_VlB7XNNXI"
      }
    },
    {
      "cell_type": "code",
      "source": [
        "snps = pd.read_csv('1000G.snp', delim_whitespace=True, header=None, names=['id', 'chr', 'recomb. rate', 'position', 'allele 1', 'allele 2'])\n",
        "print(snps.shape)\n",
        "snps.head()"
      ],
      "metadata": {
        "id": "-MXIc-PsNPOI"
      },
      "execution_count": null,
      "outputs": []
    },
    {
      "cell_type": "markdown",
      "source": [
        "#### Stop! Check your understanding\n",
        "1. How many SNPs are in this dataset?\n",
        "2. What is the highest local recombination rate in this dataset?"
      ],
      "metadata": {
        "id": "d6l8FuzRsD70"
      }
    },
    {
      "cell_type": "code",
      "source": [],
      "metadata": {
        "id": "uMPSKB2-sEpr"
      },
      "execution_count": null,
      "outputs": []
    },
    {
      "cell_type": "code",
      "source": [],
      "metadata": {
        "id": "xrwr6nKDsE-0"
      },
      "execution_count": null,
      "outputs": []
    },
    {
      "cell_type": "markdown",
      "source": [
        "### Genotype file (runtime: ~1m)"
      ],
      "metadata": {
        "id": "Yg7lBXs1rypz"
      }
    },
    {
      "cell_type": "code",
      "source": [
        "genotypes = pd.read_fwf('1000G.geno', widths=np.ones(2504, dtype=int).tolist(), header=None)\n",
        "print(genotypes.shape)\n",
        "genotypes.head()"
      ],
      "metadata": {
        "id": "GtuhJQ4INVE7"
      },
      "execution_count": null,
      "outputs": []
    },
    {
      "cell_type": "markdown",
      "source": [
        "# Principal Component Analysis (PCA)\n",
        "\n",
        "Reference for PCA: https://www.cs.cmu.edu/~venkatg/teaching/CStheory-infoage/book-chapter-4.pdf\n",
        "\n",
        "More about SVD: https://en.wikipedia.org/wiki/Singular_value_decomposition\n",
        "\n",
        "The central idea of PCA is :\n",
        "1. Reduce the dimensionality of a data set that has a large number of interrelated variables,\n",
        "2. Retain as much as possible of the variation present in the\n",
        "data set.\n",
        "\n",
        "This is achieved by transforming to a new set of variables (PCs)\n",
        "1. which are uncorrelated (orthogonal), and\n",
        "2. which are ordered so that (hopefully) the first few retain most of the variation present in all of the original variables."
      ],
      "metadata": {
        "id": "BV5l9zxNOWMX"
      }
    },
    {
      "cell_type": "code",
      "source": [
        "Image(filename='PCA.gif',width=700)"
      ],
      "metadata": {
        "id": "CinB2TG1Ta6r"
      },
      "execution_count": null,
      "outputs": []
    },
    {
      "cell_type": "markdown",
      "source": [
        "Patterson, Nick, Alkes L. Price, and David Reich. \"Population structure and eigenanalysis.\" PLoS genetics 2.12 (2006): e190.\n",
        "\n",
        "https://journals.plos.org/plosgenetics/article?id=10.1371/journal.pgen.0020190\n",
        "\n",
        "Software documentation: https://github.com/DReichLab/EIG/tree/master/POPGEN\n",
        "\n",
        "Usage: `!../../bin/smartpca -p 1000G.smartpca.par`"
      ],
      "metadata": {
        "id": "ac-O0sBdSdp5"
      }
    },
    {
      "cell_type": "markdown",
      "source": [
        "Parameter file (1000G.smartpca.par)"
      ],
      "metadata": {
        "id": "-wXoQT3VOe67"
      }
    },
    {
      "cell_type": "code",
      "source": [
        "%%writefile 1000G.smartpca.par\n",
        "genotypename: 1000G.geno     # file with genotype information\n",
        "snpname:      1000G.snp      # file with snp information\n",
        "indivname:    1000G.ind      # file with individual information\n",
        "evecoutname:  1000G.evec     # output file of eigenvectors.\n",
        "evaloutname:  1000G.eval     # output file of all eigenvalues\n",
        "snpweightoutname: 1000G.Weightout.txt\n",
        "phylipname:   1000G.phyl     # file with Fst values across populations\n",
        "numoutevec:   10               # number of PCs to output\n",
        "numthreads:   1                # if running interactively, use 1 only\n",
        "outliermode: 2\n",
        "#outliermode should be 0, 1 or 2\n",
        "#mode = 2  NO outlier removal\n",
        "#mode = 1  when calculating mean and standard deviation of a PC to decide whether to remove a sample the\n",
        "# sample itself is not used.   This may be important for datasets with very small sample sizes (say less than 30).\n",
        "#mode = 0  (default) use all samples to compute PC mean and variance."
      ],
      "metadata": {
        "id": "-PsrvQjnOaxl"
      },
      "execution_count": null,
      "outputs": []
    },
    {
      "cell_type": "markdown",
      "source": [
        "### Run smartpca (runtime ~1min)"
      ],
      "metadata": {
        "id": "-Fyej_-9OhwD"
      }
    },
    {
      "cell_type": "code",
      "source": [
        "!../../bin/smartpca -p 1000G.smartpca.par > pca.out"
      ],
      "metadata": {
        "id": "W0o2AJeyOkBU"
      },
      "execution_count": null,
      "outputs": []
    },
    {
      "cell_type": "markdown",
      "source": [
        "Display results - evec file. File contains loadings for each individual on the 10 PCs. <br>https://github.com/DReichLab/EIG/tree/master/POPGEN"
      ],
      "metadata": {
        "id": "UQhAhrRhOvvv"
      }
    },
    {
      "cell_type": "code",
      "source": [
        "n_pcs = 10\n",
        "pcs = pd.read_csv('1000G.evec', skiprows=1, header=None, delim_whitespace=True,\n",
        "                       names=['Sample']+['PC'+str(i+1) for i in range(n_pcs)]+['population'])\n",
        "pcs = pcs.merge(population_info, on='population', how='left')\n",
        "pcs.head()"
      ],
      "metadata": {
        "id": "YlrWU8BMOsxx"
      },
      "execution_count": null,
      "outputs": []
    },
    {
      "cell_type": "markdown",
      "source": [
        "### Plot results (PC1 vs. PC2) by superpopulation"
      ],
      "metadata": {
        "id": "buW2GjkYO90i"
      }
    },
    {
      "cell_type": "code",
      "source": [
        "# Plot the top two PCs. Population labels = super_population\n",
        "plot_pcs(pcs, 1, 2, pcs.super_population, [my_individual])"
      ],
      "metadata": {
        "id": "4k3RN7lXO74S"
      },
      "execution_count": null,
      "outputs": []
    },
    {
      "cell_type": "markdown",
      "source": [
        "### Plot results (PC1 vs. PC2) by continental group"
      ],
      "metadata": {
        "id": "2hNtOfVUO_JV"
      }
    },
    {
      "cell_type": "code",
      "source": [
        "# Plot the top two PCs. Population labels = population\n",
        "plot_pcs(pcs, 1, 2, pcs.population, [my_individual])"
      ],
      "metadata": {
        "id": "1tV88D9aPCZu"
      },
      "execution_count": null,
      "outputs": []
    },
    {
      "cell_type": "markdown",
      "source": [
        "### Assess variance explained by PCs"
      ],
      "metadata": {
        "id": "Ua-RGhaBPFJS"
      }
    },
    {
      "cell_type": "code",
      "source": [
        "eigenvalues = np.loadtxt('1000G.eval')\n",
        "plt.plot(np.arange(1, 21), 100 * eigenvalues[:20] / eigenvalues.sum())\n",
        "plt.xticks(np.arange(1, 21));\n",
        "plt.xlabel('PCs')\n",
        "plt.ylabel('percent variance explained');"
      ],
      "metadata": {
        "id": "xkkDAEfLPIF8"
      },
      "execution_count": null,
      "outputs": []
    },
    {
      "cell_type": "markdown",
      "source": [
        "### Check Fst result\n",
        "The smartpca program also outputs useful statistics after each run. One of these files, [name].phyl, has information about Fst values between all populations within your superpopulation.<br>\n",
        "<br>\n",
        "&emsp;&emsp;<ins>Fst</ins>: a measure of genetic differentiation between two populations, based on within-population structure."
      ],
      "metadata": {
        "id": "IYSKnytPtboR"
      }
    },
    {
      "cell_type": "code",
      "source": [
        "!cat '1000G.phyl'"
      ],
      "metadata": {
        "id": "5uYr5qpJtfkI"
      },
      "execution_count": null,
      "outputs": []
    },
    {
      "cell_type": "markdown",
      "source": [
        "## Exercise: explore your continental group"
      ],
      "metadata": {
        "id": "_EGmhWRnPKWS"
      }
    },
    {
      "cell_type": "markdown",
      "source": [
        "#### Run PCA"
      ],
      "metadata": {
        "id": "h1l6VishPPAh"
      }
    },
    {
      "cell_type": "code",
      "source": [
        "np.savetxt('pop.list', individuals[individuals.super_population==my_continental_group].population.unique().astype(str), fmt='%s')"
      ],
      "metadata": {
        "id": "6BkdqldFPQHK"
      },
      "execution_count": null,
      "outputs": []
    },
    {
      "cell_type": "code",
      "source": [
        "%%writefile 1000G.continent.smartpca.par\n",
        "genotypename: 1000G.geno     # file with genotype information\n",
        "snpname:      1000G.snp      # file with snp information\n",
        "indivname:    1000G.ind      # file with individual information\n",
        "poplistname:  pop.list # list of pops to include in the run.\n",
        "evecoutname:  1000G.continent.evec     # output file of eigenvectors.\n",
        "evaloutname:  1000G.continent.eval     # output file of all eigenvalues\n",
        "snpweightoutname: 1000G.continent.Weightout.txt\n",
        "phylipname:   1000G.continent.phyl     # file with Fst values across populations\n",
        "numoutevec:   10               # number of PCs to output\n",
        "numthreads:   1                # if running interactively, use 1 only\n",
        "outliermode: 2"
      ],
      "metadata": {
        "id": "Rgu03HabPSgT"
      },
      "execution_count": null,
      "outputs": []
    },
    {
      "cell_type": "markdown",
      "source": [
        "**Run smartpca (runtime ~30s)**"
      ],
      "metadata": {
        "id": "Kptpop1uPbUu"
      }
    },
    {
      "cell_type": "code",
      "source": [
        "!../../bin/smartpca -p 1000G.continent.smartpca.par > pca.out"
      ],
      "metadata": {
        "id": "W53ve9sAPdZn"
      },
      "execution_count": null,
      "outputs": []
    },
    {
      "cell_type": "code",
      "source": [
        "# Display output\n",
        "n_pcs = 10\n",
        "pcs = pd.read_csv('1000G.continent.evec', skiprows=1, header=None, delim_whitespace=True,\n",
        "                       names=['Sample']+['PC'+str(i+1) for i in range(n_pcs)]+['population'])\n",
        "pcs = pcs.merge(population_info, on='population', how='left')\n",
        "pcs = pcs[pcs.super_population==my_continental_group]\n",
        "pcs.head()"
      ],
      "metadata": {
        "id": "1GWvAbQ7PiS5"
      },
      "execution_count": null,
      "outputs": []
    },
    {
      "cell_type": "markdown",
      "source": [
        "#### Plot results (PC1 vs. PC2) by population"
      ],
      "metadata": {
        "id": "YkxmEoT3PllE"
      }
    },
    {
      "cell_type": "code",
      "source": [
        "# plot PCA output\n"
      ],
      "metadata": {
        "id": "YycpY5XLPmPx"
      },
      "execution_count": null,
      "outputs": []
    },
    {
      "cell_type": "markdown",
      "source": [
        "### Stop! Check your understanding\n",
        "1. Check your individual in our individuals dataframe; what is their sex, population, and superpopulation? Is your PCA result consistent with that?"
      ],
      "metadata": {
        "id": "pfsF94-JPp7r"
      }
    },
    {
      "cell_type": "code",
      "source": [],
      "metadata": {
        "id": "gXDlFaNXPss2"
      },
      "execution_count": null,
      "outputs": []
    },
    {
      "cell_type": "markdown",
      "source": [
        "2. Find the value of Fst between your population and every other one in the superpopulation."
      ],
      "metadata": {
        "id": "oVjPGj4uPtGO"
      }
    },
    {
      "cell_type": "code",
      "source": [],
      "metadata": {
        "id": "BlbLQ0XsPxdr"
      },
      "execution_count": null,
      "outputs": []
    },
    {
      "cell_type": "markdown",
      "source": [
        "# Admixture analysis\n",
        "\n",
        "Alexander, David H., John Novembre, and Kenneth Lange. \"Fast model-based estimation of ancestry in unrelated individuals.\" Genome research 19.9 (2009): 1655-1664.\n",
        "\n",
        "https://genome.cshlp.org/content/19/9/1655.full\n",
        "\n",
        "Software documentation: http://dalexander.github.io/admixture/admixture-manual.pdf\n",
        "Usage:\n",
        "\n",
        "```!../../bin/admixture --cv 1000G.bed K```\n",
        "\n",
        "where K = number of clusters\n",
        "\n",
        "Data format: Plink https://www.cog-genomics.org/plink/1.9/formats#bed"
      ],
      "metadata": {
        "id": "cF4ol8fEQL9y"
      }
    },
    {
      "cell_type": "markdown",
      "source": [
        "### K = 2"
      ],
      "metadata": {
        "id": "8omQqRF2Qi6G"
      }
    },
    {
      "cell_type": "markdown",
      "source": [
        "#### Run admixture with K=2 clusters (runtime: ~4m)"
      ],
      "metadata": {
        "id": "VjcXz23rQkXR"
      }
    },
    {
      "cell_type": "code",
      "source": [
        "!../../bin/admixture --cv 1000G.bed 2"
      ],
      "metadata": {
        "id": "-2XE2BmkQmsU"
      },
      "execution_count": null,
      "outputs": []
    },
    {
      "cell_type": "markdown",
      "source": [
        "Output of ADMIXTURE (K=2)\n",
        "\n",
        "Each line in the output of ADMIXTURE contains the probability of an individual belonging to each cluster - not be to confused with ancestry proportion."
      ],
      "metadata": {
        "id": "NvdIBeBjQo4B"
      }
    },
    {
      "cell_type": "code",
      "source": [
        "admix = pd.read_csv('1000G.2.Q', ' ', header=None).values[order]\n",
        "admix"
      ],
      "metadata": {
        "id": "kgrrvMZYQsYX"
      },
      "execution_count": null,
      "outputs": []
    },
    {
      "cell_type": "markdown",
      "source": [
        "#### Plot ADMIXTURE result by continental group"
      ],
      "metadata": {
        "id": "2wy3aWzfQvPf"
      }
    },
    {
      "cell_type": "code",
      "source": [
        "plot_admixture(admix, individuals.super_population.cat.codes, individuals.super_population.cat.categories);"
      ],
      "metadata": {
        "id": "4QtoGDicQuzc"
      },
      "execution_count": null,
      "outputs": []
    },
    {
      "cell_type": "markdown",
      "source": [
        "#### Plot ADMIXTURE result by population"
      ],
      "metadata": {
        "id": "XiNBFyXFQz4x"
      }
    },
    {
      "cell_type": "code",
      "source": [
        "plot_admixture(admix, individuals.population.cat.codes, individuals.population.cat.categories);"
      ],
      "metadata": {
        "id": "giiltuK9Q2IX"
      },
      "execution_count": null,
      "outputs": []
    },
    {
      "cell_type": "markdown",
      "source": [
        "#### Plot ADMIXTURE output for your current individual"
      ],
      "metadata": {
        "id": "k3btOxOLQ4ef"
      }
    },
    {
      "cell_type": "code",
      "source": [
        "plot_admix_individual(admix, my_individual)"
      ],
      "metadata": {
        "id": "Uy23VAQnQ6fp"
      },
      "execution_count": null,
      "outputs": []
    },
    {
      "cell_type": "markdown",
      "source": [
        "### Exercise: K = 3,4,5,6"
      ],
      "metadata": {
        "id": "K0dv6yAPQ-h8"
      }
    },
    {
      "cell_type": "markdown",
      "source": [
        "#### K = 3"
      ],
      "metadata": {
        "id": "xeuVKePWRCn0"
      }
    },
    {
      "cell_type": "code",
      "source": [
        "# load ADMIXTURE result file"
      ],
      "metadata": {
        "id": "O4wxdWtsRBXT"
      },
      "execution_count": null,
      "outputs": []
    },
    {
      "cell_type": "code",
      "source": [
        "# plot admixture result by population"
      ],
      "metadata": {
        "id": "MHmdpvEvQ_Pl"
      },
      "execution_count": null,
      "outputs": []
    },
    {
      "cell_type": "code",
      "source": [
        "# plot admixture result for your individual"
      ],
      "metadata": {
        "id": "XwuihyyFRGLG"
      },
      "execution_count": null,
      "outputs": []
    },
    {
      "cell_type": "markdown",
      "source": [
        "#### K = 4"
      ],
      "metadata": {
        "id": "dCKPj6SqRLps"
      }
    },
    {
      "cell_type": "code",
      "source": [
        "# load ADMIXTURE result file"
      ],
      "metadata": {
        "id": "fn-F7xx9RMbX"
      },
      "execution_count": null,
      "outputs": []
    },
    {
      "cell_type": "code",
      "source": [
        "# plot admixture result by population"
      ],
      "metadata": {
        "id": "KQ4Jt9VjRNOY"
      },
      "execution_count": null,
      "outputs": []
    },
    {
      "cell_type": "code",
      "source": [
        "# plot admixture result for your individual"
      ],
      "metadata": {
        "id": "rJcm2gMuRPY-"
      },
      "execution_count": null,
      "outputs": []
    },
    {
      "cell_type": "markdown",
      "source": [
        "#### K = 5"
      ],
      "metadata": {
        "id": "shxQ2-YfRQZY"
      }
    },
    {
      "cell_type": "code",
      "source": [
        "# load ADMIXTURE result file"
      ],
      "metadata": {
        "id": "xkyMLQDmRVTc"
      },
      "execution_count": null,
      "outputs": []
    },
    {
      "cell_type": "code",
      "source": [
        "# plot admixture result by population"
      ],
      "metadata": {
        "id": "cwC-NpLaRWtI"
      },
      "execution_count": null,
      "outputs": []
    },
    {
      "cell_type": "code",
      "source": [
        "# plot admixture result for your individual"
      ],
      "metadata": {
        "id": "48RtvU26RXht"
      },
      "execution_count": null,
      "outputs": []
    },
    {
      "cell_type": "markdown",
      "source": [
        "#### K = 6"
      ],
      "metadata": {
        "id": "E3nxyZasRSVp"
      }
    },
    {
      "cell_type": "code",
      "source": [
        "# load ADMIXTURE result file"
      ],
      "metadata": {
        "id": "iaQjfWeqRZAO"
      },
      "execution_count": null,
      "outputs": []
    },
    {
      "cell_type": "code",
      "source": [
        "# plot admixture result by population"
      ],
      "metadata": {
        "id": "UuYDs-xcRaD-"
      },
      "execution_count": null,
      "outputs": []
    },
    {
      "cell_type": "code",
      "source": [
        "# plot admixture result for your individual"
      ],
      "metadata": {
        "id": "oDY95A8YRauq"
      },
      "execution_count": null,
      "outputs": []
    },
    {
      "cell_type": "markdown",
      "source": [
        "### How to choose K value\n",
        "Use ADMIXTURE’s cross-validation procedure. A good value of K will exhibit a low\n",
        "cross-validation error compared to other K values. Cross-validation is enabled by simply\n",
        "adding the `--cv` flag to the ADMIXTURE command line. In this default setting, the\n",
        "cross-validation procedure will perform 5-fold CV—you can get 10-fold CV, for example,\n",
        "using `--cv=10`. The cross-validation error is reported in the output."
      ],
      "metadata": {
        "id": "f3cOna-gRdsp"
      }
    },
    {
      "cell_type": "code",
      "source": [
        "# %%bash\n",
        "# for i in {2..6}\n",
        "# do\n",
        "#   ../../bin/admixture --cv 1000G.bed $i  | tee log${i}.out\n",
        "# done"
      ],
      "metadata": {
        "id": "P1C39Q4ZUb32"
      },
      "execution_count": null,
      "outputs": []
    },
    {
      "cell_type": "code",
      "source": [
        "## Take a look at the output.\n",
        "# !grep -h \"CV\" log*.out"
      ],
      "metadata": {
        "id": "KstdT5fdUiiO"
      },
      "execution_count": null,
      "outputs": []
    },
    {
      "cell_type": "code",
      "source": [
        "## plot elbow\n",
        "l = [0.45627,0.43727,0.43260,0.42916,0.42901,0.43249,0.43334,0.43428]\n",
        "k = range(2, 10)\n",
        "plt.plot(k, l)\n",
        "plt.xlabel(\"k value\")\n",
        "plt.ylabel(\"CV error\")\n",
        "plt.title('Elbow plot for k values')"
      ],
      "metadata": {
        "id": "tF-7SLn_UxJI"
      },
      "execution_count": null,
      "outputs": []
    }
  ]
}
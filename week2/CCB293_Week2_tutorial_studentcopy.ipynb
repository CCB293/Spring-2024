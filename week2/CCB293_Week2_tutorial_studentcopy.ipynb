{
  "nbformat": 4,
  "nbformat_minor": 0,
  "metadata": {
    "colab": {
      "provenance": [],
      "collapsed_sections": [
        "tlj0C2TsLjY6",
        "Gz_VlB7XNNXI",
        "Yg7lBXs1rypz",
        "2hNtOfVUO_JV"
      ]
    },
    "kernelspec": {
      "name": "python3",
      "display_name": "Python 3"
    },
    "language_info": {
      "name": "python"
    }
  },
  "cells": [
    {
      "cell_type": "markdown",
      "source": [
        "# Week 2: Tutorial\n",
        "# Our genomes, our selves: Ancestry Inference"
      ],
      "metadata": {
        "id": "RoI2sQYILYM_"
      }
    },
    {
      "cell_type": "markdown",
      "source": [
        "### Set your individual"
      ],
      "metadata": {
        "id": "-30I21zgLcK0"
      }
    },
    {
      "cell_type": "code",
      "execution_count": null,
      "metadata": {
        "id": "ccLCNSK3LNAT"
      },
      "outputs": [],
      "source": [
        "# REPLACE with your individual ID\n",
        "my_individual = 'NA18525'"
      ]
    },
    {
      "cell_type": "markdown",
      "source": [
        "## Installing packaging and linking to data on github (runtime: 2m)"
      ],
      "metadata": {
        "id": "tlj0C2TsLjY6"
      }
    },
    {
      "cell_type": "code",
      "source": [
        "%cd /content/\n",
        "!rm -rf Spring-2024"
      ],
      "metadata": {
        "id": "F9wkSIwYwNHw"
      },
      "execution_count": null,
      "outputs": []
    },
    {
      "cell_type": "code",
      "source": [
        "# %%capture\n",
        "!export LD_LIBARY_PATH=/usr/lib/x86_64-linux-gnu:$LD_LIBRARY_PATH\n",
        "!apt install libgsl-dev\n",
        "!ln -s /usr/lib/x86_64-linux-gnu/libgsl.so /usr/lib/x86_64-linux-gnu/libgsl.so.0\n",
        "!git clone https://github.com/CCB293/Spring-2024\n",
        "!chmod +x Spring-2024/bin/smartpca\n",
        "!chmod +x Spring-2024/bin/admixture\n",
        "!cd Spring-2024/data/1000G && unzip 1000G.geno.zip"
      ],
      "metadata": {
        "id": "6ssuR0XcLlin"
      },
      "execution_count": null,
      "outputs": []
    },
    {
      "cell_type": "code",
      "source": [
        "# load the libraries\n",
        "import matplotlib.pyplot as plt\n",
        "from collections import Counter\n",
        "import numpy as np\n",
        "import pandas as pd\n",
        "import colorsys\n",
        "import seaborn as sns\n",
        "from IPython.display import Image\n",
        "import os"
      ],
      "metadata": {
        "id": "tL4y2hPfLozR"
      },
      "execution_count": null,
      "outputs": []
    },
    {
      "cell_type": "code",
      "source": [
        "# define plotting functions\n",
        "\n",
        "def plot_pcs(pcs, I, J, labels, indivs=None):\n",
        "    PCI = 'PC{}'.format(I)\n",
        "    PCJ = 'PC{}'.format(J)\n",
        "    plt.figure(figsize=(10,10))\n",
        "    #colors = [colorsys.hsv_to_rgb(h,0.9,0.7) for h in np.linspace(0,1,len(np.unique(labels))+1)[:-1]]\n",
        "    #colors = ['#acc2d9', '#653700', '#b2996e', '#a8ff04', 'xkcd:orange', '#894585',\n",
        "    #          '#70b23f', '#d4ffff', '#65ab7c', '#952e8f', '#fcfc81', '#a5a391',\n",
        "    #          '#388004', '#4c9085', '#5e9b8a', '#efb435', '#d99b82', '#0a5f38',\n",
        "    #          '#0c06f7', '#61de2a', '#3778bf', '#2242c7', '#533cc6', '#9bb53c',\n",
        "    #          '#05ffa6', '#1f6357', '#017374', '#0cb577']\n",
        "\n",
        "    colors = [\n",
        "        \"#7e1e9c\", \"#15b01a\", \"#0343df\", \"#ff81c0\",\"#653700\",\"#e50000\",\"#029386\",\n",
        "        \"#f97306\", \"#96f97b\", \"#c20078\", \"#ffff14\", \"#95d0fc\", \"#929591\",\n",
        "        \"#9a0eea\",\n",
        "        \"#033500\",\n",
        "        \"#00035b\",\n",
        "        \"#06c2ac\",\n",
        "        \"#d1b26f\",\n",
        "        \"#00ffff\",\n",
        "        \"#650021\",\n",
        "        \"#ffb07c\",\n",
        "        \"#ff796c\",\n",
        "        \"#36013f\",\n",
        "        \"#c65102\",\n",
        "        \"#000000\",\n",
        "        \"#c1f80a\",\n",
        "        \"#4b5d16\",\n",
        "        \"#0652ff\"\n",
        "    ]\n",
        "\n",
        "\n",
        "    print(len(np.unique(labels)))\n",
        "    for i, p in enumerate(np.unique(labels)):\n",
        "        pcs_p = pcs[labels==p]\n",
        "        plt.scatter(pcs_p[PCI], pcs_p[PCJ], label=p, color=colors[i])\n",
        "    plt.legend(loc=(1.04,0))\n",
        "    if indivs is not None:\n",
        "        for individual in indivs:\n",
        "            pcs_i = pcs[pcs.Sample==individual]\n",
        "            plt.annotate(individual, [pcs_i[PCI], pcs_i[PCJ]])\n",
        "            plt.plot(pcs_i[PCI], pcs_i[PCJ], 'o', color='black')\n",
        "    plt.xlabel(PCI)\n",
        "    plt.ylabel(PCJ);\n",
        "\n",
        "\n",
        "def plot_admixture(admixture, population_indices, population_labels):\n",
        "    plot = plt\n",
        "\n",
        "    N,K = admixture.shape\n",
        "    colors = [colorsys.hsv_to_rgb(h,0.9,0.7) for h in np.linspace(0,1,K+1)[:-1]]\n",
        "    text_color = 'k'\n",
        "    bg_color = 'w'\n",
        "    fontsize = 24\n",
        "\n",
        "    figure = plot.figure(figsize=(5,3))\n",
        "\n",
        "    xmin = 0.13\n",
        "    ymin = 0.2\n",
        "    height = 1.2#0.6\n",
        "    width = 1.5#0.74\n",
        "    indiv_width = width/N\n",
        "    subplot = figure.add_axes([xmin,ymin,width,height])\n",
        "    [spine.set_linewidth(0.001) for spine in subplot.spines.values()]\n",
        "\n",
        "    for k in np.arange(K):\n",
        "        if k:\n",
        "            bottoms = admixture[:,:k].sum(1)\n",
        "        else:\n",
        "            bottoms = np.zeros((N,),dtype=float)\n",
        "\n",
        "        lefts = np.arange(N)*indiv_width\n",
        "        subplot.bar(lefts, admixture[:,k], width=indiv_width, bottom=bottoms, facecolor=colors[k], edgecolor=colors[k], linewidth=0.4)\n",
        "\n",
        "        subplot.axis([0, N*indiv_width, 0, 1])\n",
        "        subplot.tick_params(axis='both', top=False, right=False, left=False, bottom=False)\n",
        "        xtick_labels = tuple(map(str,['']*N))\n",
        "        subplot.set_xticklabels(xtick_labels)\n",
        "        ytick_labels = tuple(map(str,['']*K))\n",
        "        subplot.set_yticklabels(ytick_labels)\n",
        "\n",
        "    for p,popname in enumerate(population_labels):\n",
        "        indices = np.where(population_indices==p)[0]\n",
        "        if indices.size>0:\n",
        "            vline_pos = (indices.max()+1)*indiv_width\n",
        "            subplot.axvline(vline_pos, linestyle='-', linewidth=0.2, c='#888888')\n",
        "            label_position = (xmin+(2*indices.min()+indices.size)*0.5*indiv_width, ymin-0.01)\n",
        "            figure.text(label_position[0], label_position[1], popname, fontsize=12, color='k', \\\n",
        "                horizontalalignment='right', verticalalignment='top', rotation=70)\n",
        "\n",
        "    return figure\n",
        "\n",
        "def plot_admix_individual(admix, individual):\n",
        "    K = admix.shape[1]\n",
        "    colors = [colorsys.hsv_to_rgb(h,0.9,0.7) for h in np.linspace(0,1,K+1)[:-1]]\n",
        "    plt.pie(admix[individuals.individual==individual][0], colors=colors)\n",
        "    plt.title(individual);"
      ],
      "metadata": {
        "id": "XgT_0mQyLqna"
      },
      "execution_count": null,
      "outputs": []
    },
    {
      "cell_type": "code",
      "source": [
        "# set current directory\n",
        "%cd Spring-2024/data/1000G/"
      ],
      "metadata": {
        "id": "_YjetLJFLuHy"
      },
      "execution_count": null,
      "outputs": []
    },
    {
      "cell_type": "markdown",
      "source": [
        "## Exploring data: 1000 Genomes Project (1000G)\n",
        "1000 Genomes Project Consortium. (2015). A global reference for human genetic variation. Nature, 526(7571), 68.\n",
        "https://www.ncbi.nlm.nih.gov/pmc/articles/PMC4750478/"
      ],
      "metadata": {
        "id": "BJ9DX1MrMjXF"
      }
    },
    {
      "cell_type": "code",
      "source": [
        "from IPython.display import Image\n",
        "Image(filename='1000G.png',width=700)"
      ],
      "metadata": {
        "id": "_IKPbV-8MmQm"
      },
      "execution_count": null,
      "outputs": []
    },
    {
      "cell_type": "markdown",
      "source": [
        "### Individual File.\n",
        "For more information about file formats, refer to: https://reich.hms.harvard.edu/software/InputFileFormats"
      ],
      "metadata": {
        "id": "F0l707g4MpB4"
      }
    },
    {
      "cell_type": "code",
      "source": [
        "individuals = pd.read_csv('1000G.ind', delim_whitespace=True, header=None, names=['individual', 'sex', 'population'])\n",
        "individuals.head()"
      ],
      "metadata": {
        "id": "ePpLPacfMvgN"
      },
      "execution_count": null,
      "outputs": []
    },
    {
      "cell_type": "markdown",
      "source": [
        "**1000 Genomes superpopulations:** <br>\n",
        "&emsp;&emsp;AFR = Africa<br>\n",
        "&emsp;&emsp;EUR = Europe<br>\n",
        "&emsp;&emsp;SAS = South Asia<br>\n",
        "&emsp;&emsp;EAS = East Asia<br>\n",
        "&emsp;&emsp;AMR = Americas<br>"
      ],
      "metadata": {
        "id": "yN_BRm9rM5S0"
      }
    },
    {
      "cell_type": "code",
      "source": [
        "# merge with population_info file\n",
        "population_info = pd.read_csv('population_info.csv')\n",
        "individuals = individuals.merge(population_info, on='population', how='left')\n",
        "individuals.population = individuals.population.astype('category')\n",
        "individuals.super_population = pd.Categorical(\n",
        "    individuals.super_population,\n",
        "    categories=['AFR', 'EUR', 'SAS', 'EAS', 'AMR'],\n",
        "    ordered=True)\n",
        "# sort individuals by population\n",
        "individuals = individuals.sort_values(['super_population', 'population'])\n",
        "# order individual indexes\n",
        "order = individuals.index\n",
        "# Set my_individual's continental group\n",
        "my_individual_index = np.where(individuals.individual==my_individual)[0][0]\n",
        "my_continental_group = individuals.iloc[my_individual_index].super_population\n",
        "\n",
        "# show final dataframe\n",
        "individuals.tail()"
      ],
      "metadata": {
        "id": "b0fRy6I2M_KW"
      },
      "execution_count": null,
      "outputs": []
    },
    {
      "cell_type": "markdown",
      "source": [
        "#### Stop! Check your understanding\n",
        "1. How many individuals are there in this dataset?\n",
        "2. How many populations are there in this dataset?"
      ],
      "metadata": {
        "id": "TctHu7YoNHQ1"
      }
    },
    {
      "cell_type": "code",
      "source": [],
      "metadata": {
        "id": "QzQ4XpBusNwQ"
      },
      "execution_count": null,
      "outputs": []
    },
    {
      "cell_type": "code",
      "source": [],
      "metadata": {
        "id": "oHzlDWWYsNkz"
      },
      "execution_count": null,
      "outputs": []
    },
    {
      "cell_type": "markdown",
      "source": [
        "###SNP file"
      ],
      "metadata": {
        "id": "Gz_VlB7XNNXI"
      }
    },
    {
      "cell_type": "code",
      "source": [
        "snps = pd.read_csv('1000G.snp', delim_whitespace=True, header=None, names=['id', 'chr', 'recomb. rate', 'position', 'allele 1', 'allele 2'])\n",
        "print(snps.shape)\n",
        "snps.head()"
      ],
      "metadata": {
        "id": "-MXIc-PsNPOI"
      },
      "execution_count": null,
      "outputs": []
    },
    {
      "cell_type": "markdown",
      "source": [
        "#### Stop! Check your understanding\n",
        "1. How many SNPs are in this dataset?\n",
        "2. What is the highest local recombination rate in this dataset?"
      ],
      "metadata": {
        "id": "d6l8FuzRsD70"
      }
    },
    {
      "cell_type": "code",
      "source": [],
      "metadata": {
        "id": "uMPSKB2-sEpr"
      },
      "execution_count": null,
      "outputs": []
    },
    {
      "cell_type": "code",
      "source": [],
      "metadata": {
        "id": "xrwr6nKDsE-0"
      },
      "execution_count": null,
      "outputs": []
    },
    {
      "cell_type": "markdown",
      "source": [
        "### Genotype file (runtime: ~1m)"
      ],
      "metadata": {
        "id": "Yg7lBXs1rypz"
      }
    },
    {
      "cell_type": "code",
      "source": [
        "genotypes = pd.read_fwf('1000G.geno', widths=np.ones(2504, dtype=int).tolist(), header=None)\n",
        "print(genotypes.shape)\n",
        "genotypes.head()"
      ],
      "metadata": {
        "id": "GtuhJQ4INVE7"
      },
      "execution_count": null,
      "outputs": []
    },
    {
      "cell_type": "markdown",
      "source": [
        "# Principal Component Analysis (PCA)\n",
        "\n",
        "Reference for PCA: https://www.cs.cmu.edu/~venkatg/teaching/CStheory-infoage/book-chapter-4.pdf\n",
        "\n",
        "More about SVD: https://en.wikipedia.org/wiki/Singular_value_decomposition\n",
        "\n",
        "The central idea of PCA is :\n",
        "1. Reduce the dimensionality of a data set that has a large number of interrelated variables,\n",
        "2. Retain as much as possible of the variation present in the\n",
        "data set.\n",
        "\n",
        "This is achieved by transforming to a new set of variables (PCs)\n",
        "1. which are uncorrelated (orthogonal), and\n",
        "2. which are ordered so that (hopefully) the first few retain most of the variation present in all of the original variables."
      ],
      "metadata": {
        "id": "BV5l9zxNOWMX"
      }
    },
    {
      "cell_type": "code",
      "source": [
        "Image(filename='PCA.gif',width=700)"
      ],
      "metadata": {
        "id": "CinB2TG1Ta6r"
      },
      "execution_count": null,
      "outputs": []
    },
    {
      "cell_type": "markdown",
      "source": [
        "Patterson, Nick, Alkes L. Price, and David Reich. \"Population structure and eigenanalysis.\" PLoS genetics 2.12 (2006): e190.\n",
        "\n",
        "https://journals.plos.org/plosgenetics/article?id=10.1371/journal.pgen.0020190\n",
        "\n",
        "Software documentation: https://github.com/DReichLab/EIG/tree/master/POPGEN\n",
        "\n",
        "Usage: `!../../bin/smartpca -p 1000G.smartpca.par`"
      ],
      "metadata": {
        "id": "ac-O0sBdSdp5"
      }
    },
    {
      "cell_type": "markdown",
      "source": [
        "Parameter file (1000G.smartpca.par)"
      ],
      "metadata": {
        "id": "-wXoQT3VOe67"
      }
    },
    {
      "cell_type": "code",
      "source": [
        "%%writefile 1000G.smartpca.par\n",
        "genotypename: 1000G.geno     # file with genotype information\n",
        "snpname:      1000G.snp      # file with snp information\n",
        "indivname:    1000G.ind      # file with individual information\n",
        "evecoutname:  1000G.evec     # output file of eigenvectors.\n",
        "evaloutname:  1000G.eval     # output file of all eigenvalues\n",
        "snpweightoutname: 1000G.Weightout.txt\n",
        "phylipname:   1000G.phyl     # file with Fst values across populations\n",
        "numoutevec:   10               # number of PCs to output\n",
        "numthreads:   1                # if running interactively, use 1 only\n",
        "outliermode: 2\n",
        "#outliermode should be 0, 1 or 2\n",
        "#mode = 2  NO outlier removal\n",
        "#mode = 1  when calculating mean and standard deviation of a PC to decide whether to remove a sample the\n",
        "# sample itself is not used.   This may be important for datasets with very small sample sizes (say less than 30).\n",
        "#mode = 0  (default) use all samples to compute PC mean and variance."
      ],
      "metadata": {
        "id": "-PsrvQjnOaxl"
      },
      "execution_count": null,
      "outputs": []
    },
    {
      "cell_type": "markdown",
      "source": [
        "### Run smartpca (runtime ~1min)"
      ],
      "metadata": {
        "id": "-Fyej_-9OhwD"
      }
    },
    {
      "cell_type": "code",
      "source": [
        "!../../bin/smartpca -p 1000G.smartpca.par > pca.out"
      ],
      "metadata": {
        "id": "W0o2AJeyOkBU"
      },
      "execution_count": null,
      "outputs": []
    },
    {
      "cell_type": "markdown",
      "source": [
        "Display results - evec file. File contains loadings for each individual on the 10 PCs. <br>https://github.com/DReichLab/EIG/tree/master/POPGEN"
      ],
      "metadata": {
        "id": "UQhAhrRhOvvv"
      }
    },
    {
      "cell_type": "code",
      "source": [
        "n_pcs = 10\n",
        "pcs = pd.read_csv('1000G.evec', skiprows=1, header=None, delim_whitespace=True,\n",
        "                       names=['Sample']+['PC'+str(i+1) for i in range(n_pcs)]+['population'])\n",
        "pcs = pcs.merge(population_info, on='population', how='left')\n",
        "pcs.head()"
      ],
      "metadata": {
        "id": "YlrWU8BMOsxx"
      },
      "execution_count": null,
      "outputs": []
    },
    {
      "cell_type": "markdown",
      "source": [
        "### Plot results (PC1 vs. PC2) by superpopulation"
      ],
      "metadata": {
        "id": "buW2GjkYO90i"
      }
    },
    {
      "cell_type": "code",
      "source": [
        "# Plot the top two PCs. Population labels = super_population\n",
        "plot_pcs(pcs, 1, 2, pcs.super_population, [my_individual])"
      ],
      "metadata": {
        "id": "4k3RN7lXO74S"
      },
      "execution_count": null,
      "outputs": []
    },
    {
      "cell_type": "markdown",
      "source": [
        "### Plot results (PC1 vs. PC2) by continental group"
      ],
      "metadata": {
        "id": "2hNtOfVUO_JV"
      }
    },
    {
      "cell_type": "code",
      "source": [
        "# Plot the top two PCs. Population labels = population\n",
        "plot_pcs(pcs, 1, 2, pcs.population, [my_individual])"
      ],
      "metadata": {
        "id": "1tV88D9aPCZu"
      },
      "execution_count": null,
      "outputs": []
    },
    {
      "cell_type": "markdown",
      "source": [
        "### Assess variance explained by PCs"
      ],
      "metadata": {
        "id": "Ua-RGhaBPFJS"
      }
    },
    {
      "cell_type": "code",
      "source": [
        "eigenvalues = np.loadtxt('1000G.eval')\n",
        "plt.plot(np.arange(1, 21), 100 * eigenvalues[:20] / eigenvalues.sum())\n",
        "plt.xticks(np.arange(1, 21));\n",
        "plt.xlabel('PCs')\n",
        "plt.ylabel('percent variance explained');"
      ],
      "metadata": {
        "id": "xkkDAEfLPIF8"
      },
      "execution_count": null,
      "outputs": []
    },
    {
      "cell_type": "markdown",
      "source": [
        "### Check Fst result\n",
        "The smartpca program also outputs useful statistics after each run. One of these files, [name].phyl, has information about Fst values between all populations within your superpopulation.<br>\n",
        "<br>\n",
        "&emsp;&emsp;<ins>Fst</ins>: a measure of genetic differentiation between two populations, based on within-population structure."
      ],
      "metadata": {
        "id": "IYSKnytPtboR"
      }
    },
    {
      "cell_type": "code",
      "source": [
        "!cat '1000G.phyl'"
      ],
      "metadata": {
        "id": "5uYr5qpJtfkI"
      },
      "execution_count": null,
      "outputs": []
    },
    {
      "cell_type": "markdown",
      "source": [
        "## Exercise: explore your continental group"
      ],
      "metadata": {
        "id": "_EGmhWRnPKWS"
      }
    },
    {
      "cell_type": "markdown",
      "source": [
        "#### Run PCA"
      ],
      "metadata": {
        "id": "h1l6VishPPAh"
      }
    },
    {
      "cell_type": "code",
      "source": [
        "np.savetxt('pop.list', individuals[individuals.super_population==my_continental_group].population.unique().astype(str), fmt='%s')"
      ],
      "metadata": {
        "id": "6BkdqldFPQHK"
      },
      "execution_count": null,
      "outputs": []
    },
    {
      "cell_type": "code",
      "source": [
        "%%writefile 1000G.continent.smartpca.par\n",
        "genotypename: 1000G.geno     # file with genotype information\n",
        "snpname:      1000G.snp      # file with snp information\n",
        "indivname:    1000G.ind      # file with individual information\n",
        "poplistname:  pop.list # list of pops to include in the run.\n",
        "evecoutname:  1000G.continent.evec     # output file of eigenvectors.\n",
        "evaloutname:  1000G.continent.eval     # output file of all eigenvalues\n",
        "snpweightoutname: 1000G.continent.Weightout.txt\n",
        "phylipname:   1000G.continent.phyl     # file with Fst values across populations\n",
        "numoutevec:   10               # number of PCs to output\n",
        "numthreads:   1                # if running interactively, use 1 only\n",
        "outliermode: 2"
      ],
      "metadata": {
        "id": "Rgu03HabPSgT"
      },
      "execution_count": null,
      "outputs": []
    },
    {
      "cell_type": "markdown",
      "source": [
        "**Run smartpca (runtime ~30s)**"
      ],
      "metadata": {
        "id": "Kptpop1uPbUu"
      }
    },
    {
      "cell_type": "code",
      "source": [
        "!../../bin/smartpca -p 1000G.continent.smartpca.par > pca.out"
      ],
      "metadata": {
        "id": "W53ve9sAPdZn"
      },
      "execution_count": null,
      "outputs": []
    },
    {
      "cell_type": "code",
      "source": [
        "# Display output\n",
        "n_pcs = 10\n",
        "pcs = pd.read_csv('1000G.continent.evec', skiprows=1, header=None, delim_whitespace=True,\n",
        "                       names=['Sample']+['PC'+str(i+1) for i in range(n_pcs)]+['population'])\n",
        "pcs = pcs.merge(population_info, on='population', how='left')\n",
        "pcs = pcs[pcs.super_population==my_continental_group]\n",
        "pcs.head()"
      ],
      "metadata": {
        "id": "1GWvAbQ7PiS5"
      },
      "execution_count": null,
      "outputs": []
    },
    {
      "cell_type": "markdown",
      "source": [
        "#### Plot results (PC1 vs. PC2) by population"
      ],
      "metadata": {
        "id": "YkxmEoT3PllE"
      }
    },
    {
      "cell_type": "code",
      "source": [
        "# plot PCA output\n"
      ],
      "metadata": {
        "id": "YycpY5XLPmPx"
      },
      "execution_count": null,
      "outputs": []
    },
    {
      "cell_type": "markdown",
      "source": [
        "### Stop! Check your understanding\n",
        "1. Check your individual in our individuals dataframe; what is their sex, population, and superpopulation? Is your PCA result consistent with that?"
      ],
      "metadata": {
        "id": "pfsF94-JPp7r"
      }
    },
    {
      "cell_type": "code",
      "source": [],
      "metadata": {
        "id": "gXDlFaNXPss2"
      },
      "execution_count": null,
      "outputs": []
    },
    {
      "cell_type": "markdown",
      "source": [
        "2. Find the value of Fst between your population and every other one in the superpopulation."
      ],
      "metadata": {
        "id": "oVjPGj4uPtGO"
      }
    },
    {
      "cell_type": "code",
      "source": [],
      "metadata": {
        "id": "BlbLQ0XsPxdr"
      },
      "execution_count": null,
      "outputs": []
    },
    {
      "cell_type": "markdown",
      "source": [
        "# Admixture analysis\n",
        "\n",
        "Alexander, David H., John Novembre, and Kenneth Lange. \"Fast model-based estimation of ancestry in unrelated individuals.\" Genome research 19.9 (2009): 1655-1664.\n",
        "\n",
        "https://genome.cshlp.org/content/19/9/1655.full\n",
        "\n",
        "Software documentation: http://dalexander.github.io/admixture/admixture-manual.pdf\n",
        "Usage:\n",
        "\n",
        "```!../../bin/admixture --cv 1000G.bed K```\n",
        "\n",
        "where K = number of clusters\n",
        "\n",
        "Data format: Plink https://www.cog-genomics.org/plink/1.9/formats#bed"
      ],
      "metadata": {
        "id": "cF4ol8fEQL9y"
      }
    },
    {
      "cell_type": "markdown",
      "source": [
        "### K = 2"
      ],
      "metadata": {
        "id": "8omQqRF2Qi6G"
      }
    },
    {
      "cell_type": "markdown",
      "source": [
        "#### Run admixture with K=2 clusters (runtime: ~4m)"
      ],
      "metadata": {
        "id": "VjcXz23rQkXR"
      }
    },
    {
      "cell_type": "code",
      "source": [
        "!../../bin/admixture --cv 1000G.bed 2"
      ],
      "metadata": {
        "id": "-2XE2BmkQmsU"
      },
      "execution_count": null,
      "outputs": []
    },
    {
      "cell_type": "markdown",
      "source": [
        "Output of ADMIXTURE (K=2)\n",
        "\n",
        "Each line in the output of ADMIXTURE contains the probability of an individual belonging to each cluster - not be to confused with ancestry proportion."
      ],
      "metadata": {
        "id": "NvdIBeBjQo4B"
      }
    },
    {
      "cell_type": "code",
      "source": [
        "admix = pd.read_csv('1000G.2.Q', ' ', header=None).values[order]\n",
        "admix"
      ],
      "metadata": {
        "id": "kgrrvMZYQsYX"
      },
      "execution_count": null,
      "outputs": []
    },
    {
      "cell_type": "markdown",
      "source": [
        "#### Plot ADMIXTURE result by continental group"
      ],
      "metadata": {
        "id": "2wy3aWzfQvPf"
      }
    },
    {
      "cell_type": "code",
      "source": [
        "plot_admixture(admix, individuals.super_population.cat.codes, individuals.super_population.cat.categories);"
      ],
      "metadata": {
        "id": "4QtoGDicQuzc"
      },
      "execution_count": null,
      "outputs": []
    },
    {
      "cell_type": "markdown",
      "source": [
        "#### Plot ADMIXTURE result by population"
      ],
      "metadata": {
        "id": "XiNBFyXFQz4x"
      }
    },
    {
      "cell_type": "code",
      "source": [
        "plot_admixture(admix, individuals.population.cat.codes, individuals.population.cat.categories);"
      ],
      "metadata": {
        "id": "giiltuK9Q2IX"
      },
      "execution_count": null,
      "outputs": []
    },
    {
      "cell_type": "markdown",
      "source": [
        "#### Plot ADMIXTURE output for your current individual"
      ],
      "metadata": {
        "id": "k3btOxOLQ4ef"
      }
    },
    {
      "cell_type": "code",
      "source": [
        "plot_admix_individual(admix, my_individual)"
      ],
      "metadata": {
        "id": "Uy23VAQnQ6fp"
      },
      "execution_count": null,
      "outputs": []
    },
    {
      "cell_type": "markdown",
      "source": [
        "### Exercise: K = 3,4,5,6"
      ],
      "metadata": {
        "id": "K0dv6yAPQ-h8"
      }
    },
    {
      "cell_type": "markdown",
      "source": [
        "#### K = 3"
      ],
      "metadata": {
        "id": "xeuVKePWRCn0"
      }
    },
    {
      "cell_type": "code",
      "source": [
        "# load ADMIXTURE result file"
      ],
      "metadata": {
        "id": "O4wxdWtsRBXT"
      },
      "execution_count": null,
      "outputs": []
    },
    {
      "cell_type": "code",
      "source": [
        "# plot admixture result by population"
      ],
      "metadata": {
        "id": "MHmdpvEvQ_Pl"
      },
      "execution_count": null,
      "outputs": []
    },
    {
      "cell_type": "code",
      "source": [
        "# plot admixture result for your individual"
      ],
      "metadata": {
        "id": "XwuihyyFRGLG"
      },
      "execution_count": null,
      "outputs": []
    },
    {
      "cell_type": "markdown",
      "source": [
        "#### K = 4"
      ],
      "metadata": {
        "id": "dCKPj6SqRLps"
      }
    },
    {
      "cell_type": "code",
      "source": [
        "# load ADMIXTURE result file"
      ],
      "metadata": {
        "id": "fn-F7xx9RMbX"
      },
      "execution_count": null,
      "outputs": []
    },
    {
      "cell_type": "code",
      "source": [
        "# plot admixture result by population"
      ],
      "metadata": {
        "id": "KQ4Jt9VjRNOY"
      },
      "execution_count": null,
      "outputs": []
    },
    {
      "cell_type": "code",
      "source": [
        "# plot admixture result for your individual"
      ],
      "metadata": {
        "id": "rJcm2gMuRPY-"
      },
      "execution_count": null,
      "outputs": []
    },
    {
      "cell_type": "markdown",
      "source": [
        "#### K = 5"
      ],
      "metadata": {
        "id": "shxQ2-YfRQZY"
      }
    },
    {
      "cell_type": "code",
      "source": [
        "# load ADMIXTURE result file"
      ],
      "metadata": {
        "id": "xkyMLQDmRVTc"
      },
      "execution_count": null,
      "outputs": []
    },
    {
      "cell_type": "code",
      "source": [
        "# plot admixture result by population"
      ],
      "metadata": {
        "id": "cwC-NpLaRWtI"
      },
      "execution_count": null,
      "outputs": []
    },
    {
      "cell_type": "code",
      "source": [
        "# plot admixture result for your individual"
      ],
      "metadata": {
        "id": "48RtvU26RXht"
      },
      "execution_count": null,
      "outputs": []
    },
    {
      "cell_type": "markdown",
      "source": [
        "#### K = 6"
      ],
      "metadata": {
        "id": "E3nxyZasRSVp"
      }
    },
    {
      "cell_type": "code",
      "source": [
        "# load ADMIXTURE result file"
      ],
      "metadata": {
        "id": "iaQjfWeqRZAO"
      },
      "execution_count": null,
      "outputs": []
    },
    {
      "cell_type": "code",
      "source": [
        "# plot admixture result by population"
      ],
      "metadata": {
        "id": "UuYDs-xcRaD-"
      },
      "execution_count": null,
      "outputs": []
    },
    {
      "cell_type": "code",
      "source": [
        "# plot admixture result for your individual"
      ],
      "metadata": {
        "id": "oDY95A8YRauq"
      },
      "execution_count": null,
      "outputs": []
    },
    {
      "cell_type": "markdown",
      "source": [
        "### How to choose K value\n",
        "Use ADMIXTURE’s cross-validation procedure. A good value of K will exhibit a low\n",
        "cross-validation error compared to other K values. Cross-validation is enabled by simply\n",
        "adding the `--cv` flag to the ADMIXTURE command line. In this default setting, the\n",
        "cross-validation procedure will perform 5-fold CV—you can get 10-fold CV, for example,\n",
        "using `--cv=10`. The cross-validation error is reported in the output."
      ],
      "metadata": {
        "id": "f3cOna-gRdsp"
      }
    },
    {
      "cell_type": "code",
      "source": [
        "# %%bash\n",
        "# for i in {2..6}\n",
        "# do\n",
        "#   ../../bin/admixture --cv 1000G.bed $i  | tee log${i}.out\n",
        "# done"
      ],
      "metadata": {
        "id": "P1C39Q4ZUb32"
      },
      "execution_count": null,
      "outputs": []
    },
    {
      "cell_type": "code",
      "source": [
        "## Take a look at the output.\n",
        "# !grep -h \"CV\" log*.out"
      ],
      "metadata": {
        "id": "KstdT5fdUiiO"
      },
      "execution_count": null,
      "outputs": []
    },
    {
      "cell_type": "code",
      "source": [
        "## plot elbow\n",
        "l = [0.45627,0.43727,0.43260,0.42916,0.42901,0.43249,0.43334,0.43428]\n",
        "k = range(2, 10)\n",
        "plt.plot(k, l)\n",
        "plt.xlabel(\"k value\")\n",
        "plt.ylabel(\"CV error\")\n",
        "plt.title('Elbow plot for k values')"
      ],
      "metadata": {
        "id": "tF-7SLn_UxJI"
      },
      "execution_count": null,
      "outputs": []
    }
  ]
}
{
  "nbformat": 4,
  "nbformat_minor": 0,
  "metadata": {
    "colab": {
      "provenance": []
    },
    "kernelspec": {
      "name": "python3",
      "display_name": "Python 3"
    }
  },
  "cells": [
    {
      "cell_type": "markdown",
      "metadata": {
        "id": "9RbhOXS1xFZx"
      },
      "source": [
        "# Polygenic models"
      ]
    },
    {
      "cell_type": "markdown",
      "metadata": {
        "id": "A8LYuDIYm3cO"
      },
      "source": [
        "Tutorial based on data from paper: https://elifesciences.org/articles/39702#s1\n",
        "\n",
        "Paper evaluates polygenic models built on UK BioBank and GIANT GWAS for height\n",
        "- Motivation: By adding sub-significant variants, we can explain more height variation.\n",
        "- Cautions the use of high p-value thresholds as these variants likely capture population stratification"
      ]
    },
    {
      "cell_type": "markdown",
      "metadata": {
        "id": "1hIOV-b1z6Yr"
      },
      "source": [
        "# Installation"
      ]
    },
    {
      "cell_type": "code",
      "metadata": {
        "id": "SwqNz5wQAqle"
      },
      "source": [
        "# Change to your individual\n",
        "my_individual = 'NA20761'"
      ],
      "execution_count": null,
      "outputs": []
    },
    {
      "cell_type": "code",
      "metadata": {
        "id": "dOxo9cw-X3oF"
      },
      "source": [
        "# Install Plink, download tutorial github\n",
        "!wget http://s3.amazonaws.com/plink1-assets/plink_linux_x86_64_20200921.zip -O plink.zip\n",
        "!unzip plink.zip\n",
        "!chmod +x plink\n",
        "!git clone https://github.com/CCB293/Spring-2024.git"
      ],
      "execution_count": null,
      "outputs": []
    },
    {
      "cell_type": "code",
      "metadata": {
        "id": "UlhcnYZHWk8t"
      },
      "source": [
        "# Import Python packages\n",
        "import pandas as pd\n",
        "import seaborn as sns\n",
        "sns.set(style=\"ticks\")\n",
        "import matplotlib.pyplot as plt\n",
        "import numpy as np\n",
        "from IPython.display import Image\n",
        "!pip install qqman\n",
        "from qqman import qqman"
      ],
      "execution_count": null,
      "outputs": []
    },
    {
      "cell_type": "markdown",
      "metadata": {
        "id": "Gf2ufo0QrTmB"
      },
      "source": [
        "# Download GWAS Statistics and Individual Info"
      ]
    },
    {
      "cell_type": "markdown",
      "source": [
        "## GWAS summary statistics from the paper"
      ],
      "metadata": {
        "id": "kXulje1vmuU1"
      }
    },
    {
      "cell_type": "code",
      "metadata": {
        "id": "L7WoTLNqxFNY"
      },
      "source": [
        "# Downloading four polygenic risk scores for height, obtained from:\n",
        "# https://github.com/msohail88/polygenic_selection/tree/master/polygenic_scores_pipeline\n",
        "# The original GWAS summary statistics files used to develop the PRS are available at the following links:\n",
        "# GIANT:\n",
        "#   Consortium to \"identify genetic loci that modulate human body size and shape\"\n",
        "#   253,000 individuals\n",
        "#   https://portals.broadinstitute.org/collaboration/giant/index.php/GIANT_consortium_data_files#GIANT_Consortium_2012-2015_GWAS_Summary_Statistics\n",
        "# UK Biobank\n",
        "#   UK biorepository that investigates genetic predisposition for many phenotypes\n",
        "#   336,000 individuals of British ancestry\n",
        "#   Phenotype for standing height: https://docs.google.com/spreadsheets/d/1kvPoupSzsSFBNSztMzl04xMoSC3Kcx3CrjVf4yBmESU/edit#gid=227859291\n",
        "!wget https://www.dropbox.com/sh/qi80hwjusnrt0nz/AABJ-lpSUa018qWWp3NSEVnia?dl=1 -O tutorial_files.zip\n",
        "!unzip tutorial_files.zip"
      ],
      "execution_count": null,
      "outputs": []
    },
    {
      "cell_type": "markdown",
      "source": [
        "## Example of how to generate the above datasets"
      ],
      "metadata": {
        "id": "wdayJDeNmzBW"
      }
    },
    {
      "cell_type": "markdown",
      "source": [
        "### Individual information"
      ],
      "metadata": {
        "id": "CQln5XVepvvI"
      }
    },
    {
      "cell_type": "code",
      "source": [
        "# Individuals information\n",
        "individuals = pd.read_csv('Spring-2024/week8/CCB293_Health_Inference_Tutorial/data/individuals.csv', '\\t')\n",
        "individuals.head()"
      ],
      "metadata": {
        "id": "mGFQGIqun5Ew"
      },
      "execution_count": null,
      "outputs": []
    },
    {
      "cell_type": "code",
      "metadata": {
        "id": "3BC2vpXoY8MT"
      },
      "source": [
        "# Exercise: Pull your individual's information from dataframe\n",
        "my_row = ...\n",
        "my_super_population = my_row.super_population.values[0]\n",
        "my_population = my_row.population.values[0]\n",
        "print(\"My individual: %s; Population: %s;  Superpopulation %s\" % (my_individual, my_population, my_super_population))"
      ],
      "execution_count": null,
      "outputs": []
    },
    {
      "cell_type": "markdown",
      "source": [
        "### GWAS summary statistics"
      ],
      "metadata": {
        "id": "u4_piS07pzNh"
      }
    },
    {
      "cell_type": "code",
      "metadata": {
        "id": "DTvBdDjaWe6l"
      },
      "source": [
        "# Download GIANT Height GWAS statistics (p-values, effect sizes)\n",
        "!wget https://portals.broadinstitute.org/collaboration/giant/images/0/01/GIANT_HEIGHT_Wood_et_al_2014_publicrelease_HapMapCeuFreq.txt.gz"
      ],
      "execution_count": null,
      "outputs": []
    },
    {
      "cell_type": "code",
      "source": [
        "# How is this file formatted?\n",
        "# Allele1: effect allele\n",
        "# Allele2: non-effect allele\n",
        "# Freq.Allele1.HapMapCEU: allele frequency of effect allele in GWAS population\n",
        "# b: effect size (log-odds ratio per copy of effect allele)\n",
        "# SE: standard error in effect size\n",
        "# p: p-value (used for filtering)\n",
        "# N: number of individuals in study\n",
        "!zcat GIANT_HEIGHT_Wood_et_al_2014_publicrelease_HapMapCeuFreq.txt.gz | head"
      ],
      "metadata": {
        "id": "BZjloMeosCNG"
      },
      "execution_count": null,
      "outputs": []
    },
    {
      "cell_type": "code",
      "metadata": {
        "id": "kzAbi2pXdyJp"
      },
      "source": [
        "# Reformat header of GWAS statistic file\n",
        "!gunzip GIANT_HEIGHT_Wood_et_al_2014_publicrelease_HapMapCeuFreq.txt.gz\n",
        "!head GIANT_HEIGHT_Wood_et_al_2014_publicrelease_HapMapCeuFreq.txt\n",
        "!sed \"1d\" GIANT_HEIGHT_Wood_et_al_2014_publicrelease_HapMapCeuFreq.txt > GIANT_height.txt\n",
        "!sed -i '1i SNP Allele1\tAllele2\tFreq.Allele1.HapMapCEU\tb\tSE\tP\tN' GIANT_height.txt\n",
        "!head GIANT_height.txt"
      ],
      "execution_count": null,
      "outputs": []
    },
    {
      "cell_type": "code",
      "source": [
        "# Exercise: How many variants are in this file?"
      ],
      "metadata": {
        "id": "y_llRyWBsn4-"
      },
      "execution_count": null,
      "outputs": []
    },
    {
      "cell_type": "markdown",
      "metadata": {
        "id": "FEqFoN2rr7aK"
      },
      "source": [
        "### Form Polygenic Models"
      ]
    },
    {
      "cell_type": "code",
      "metadata": {
        "id": "GMKgwb6uWa16"
      },
      "source": [
        "# Forming our polygenic model\n",
        "# Clumping and thresholding works by iteratively looking at your lowest p-value\n",
        "#   sites, include that lead variant and removing any variants in a window (clump)\n",
        "#   that are correlated. Stop when you reach your P-value threshold\n",
        "# --vcf: input genetic data as vcf\n",
        "# --clump: Clumping and thresholding PRS method\n",
        "# --clump-p1: 0.01 P-value threshold\n",
        "# --clump-r2: Remove variants with >10% correlation (LD)\n",
        "# --clump-kb: 1MB region to prune variants in LD\n",
        "!./plink --vcf 1KG_snps_subsetted.vcf.gz \\\n",
        "        --clump GIANT_height.txt \\\n",
        "        --clump-p1 0.01 \\\n",
        "        --clump-r2 0.1 \\\n",
        "        --clump-kb 1000 \\\n",
        "        --out GIANT_height"
      ],
      "execution_count": null,
      "outputs": []
    },
    {
      "cell_type": "code",
      "metadata": {
        "id": "Ac-MbCyfZrUy"
      },
      "source": [
        "# Visualize weights of polygenic score\n",
        "filtered = pd.read_csv('GIANT_height.clumped', delim_whitespace=True)[[\"SNP\", \"CHR\", \"BP\"]]\n",
        "print(filtered.shape)\n",
        "height = pd.read_csv('GIANT_height.txt', delim_whitespace=True)\n",
        "merged = pd.merge(filtered, height, on=\"SNP\")\n",
        "merged"
      ],
      "execution_count": null,
      "outputs": []
    },
    {
      "cell_type": "markdown",
      "source": [
        "## GWAS summary statistics from the paper"
      ],
      "metadata": {
        "id": "Z9LZ4c0Xss7I"
      }
    },
    {
      "cell_type": "code",
      "metadata": {
        "id": "UsCSF2u9xzid"
      },
      "source": [
        "# Read GWAS Polygenic model from the GIANT study (p-value threshold 0.01) 253,000 individuals\n",
        "pd.read_csv('GIANT_HEIGHT_Wood_et_al_2014_publicrelease_HapMapCeuFreq.header.txt.clumpedout.0.01', delim_whitespace=True)"
      ],
      "execution_count": null,
      "outputs": []
    },
    {
      "cell_type": "code",
      "metadata": {
        "id": "WrhKn2nDU1wf"
      },
      "source": [
        "# Read GIANT Polygenic model (p-value threshold 5E-8)\n",
        "pd.read_csv('GIANT_HEIGHT_Wood_et_al_2014_publicrelease_HapMapCeuFreq.header.txt.clumpedout.5E-8', delim_whitespace=True)"
      ],
      "execution_count": null,
      "outputs": []
    },
    {
      "cell_type": "code",
      "metadata": {
        "id": "gDzlLaEVvs9z"
      },
      "source": [
        "# Read UK BioBank Polygenic model score (p-value threshold 0.01)\n",
        "# tstat: t-statistic\n",
        "pd.read_csv('50.assoc.tsv.processed.nodups.clumpedout.0.01', delim_whitespace=True)"
      ],
      "execution_count": null,
      "outputs": []
    },
    {
      "cell_type": "code",
      "metadata": {
        "id": "qa_vKmDbeEJm"
      },
      "source": [
        "# Read UK BioBank Polygenic model score (p-value threshold 5e-8)\n",
        "# tstat: t-statistic\n",
        "pd.read_csv('50.assoc.tsv.processed.nodups.clumpedout.5E-8', delim_whitespace=True)"
      ],
      "execution_count": null,
      "outputs": []
    },
    {
      "cell_type": "code",
      "metadata": {
        "id": "XameYzQLyeEv"
      },
      "source": [
        "# Exercise: what is the difference between the four score files? Do the number of SNPs in each score file make sense?"
      ],
      "execution_count": null,
      "outputs": []
    },
    {
      "cell_type": "markdown",
      "metadata": {
        "id": "ngA6a5TqG-D0"
      },
      "source": [
        "# Scoring Individuals with Polygenic Models"
      ]
    },
    {
      "cell_type": "code",
      "metadata": {
        "id": "86n6Bq-oy3CG"
      },
      "source": [
        "# Scoring each individual\n",
        "# ./plink --vcf <vcf_file>\n",
        "#         --score <GWAS summary statistics> <snp_id column> <effect allele column>\n",
        "#                 <effect size column> <file_includes_header> <sum or average>\n",
        "#         --out <out_directory>\n",
        "# https://www.cog-genomics.org/plink/1.9/score\n",
        "!./plink --vcf 1KG_snps_subsetted.vcf.gz \\\n",
        "         --score GIANT_HEIGHT_Wood_et_al_2014_publicrelease_HapMapCeuFreq.header.txt.clumpedout.0.01 1 2 5 header sum \\\n",
        "         --out giant_prs_0.01"
      ],
      "execution_count": null,
      "outputs": []
    },
    {
      "cell_type": "code",
      "metadata": {
        "id": "PGLobV2O36Ob"
      },
      "source": [
        "# Score each individual for GIANT 5E-8\n",
        "!./plink --vcf 1KG_snps_subsetted.vcf.gz \\\n",
        "         --score GIANT_HEIGHT_Wood_et_al_2014_publicrelease_HapMapCeuFreq.header.txt.clumpedout.5E-8 1 2 5 header sum \\\n",
        "         --out giant_prs_5E-8"
      ],
      "execution_count": null,
      "outputs": []
    },
    {
      "cell_type": "code",
      "metadata": {
        "id": "TM0hc-BX4Thf"
      },
      "source": [
        "# Score each individual for UK BioBank 0.01\n",
        "!./plink --vcf 1KG_snps_subsetted.vcf.gz \\\n",
        "         --score 50.assoc.tsv.processed.nodups.clumpedout.0.01 1 2 5 header sum \\\n",
        "         --out 50_assoc_0.01"
      ],
      "execution_count": null,
      "outputs": []
    },
    {
      "cell_type": "code",
      "metadata": {
        "id": "01LNqBG-y4c5"
      },
      "source": [
        "# Score each individual for UK BioBank 5E-8\n",
        "!./plink --vcf 1KG_snps_subsetted.vcf.gz \\\n",
        "          --score 50.assoc.tsv.processed.nodups.clumpedout.5E-8 1 2 5 header sum \\\n",
        "          --out 50_assoc_5E-8"
      ],
      "execution_count": null,
      "outputs": []
    },
    {
      "cell_type": "code",
      "metadata": {
        "id": "G-6viSMcx8Y4"
      },
      "source": [
        "# Output score for each individual\n",
        "# PHENO = phenotype if available, -9 if not available\n",
        "# CNT = total allele count\n",
        "# CNT2 = number of effect alleles\n",
        "# SCORESUM = polygenic score\n",
        "pd.read_csv('giant_prs_0.01.profile', delim_whitespace=True)"
      ],
      "execution_count": null,
      "outputs": []
    },
    {
      "cell_type": "markdown",
      "metadata": {
        "id": "UWlHzv7LG3p9"
      },
      "source": [
        "# Plotting Polygenic Model Results"
      ]
    },
    {
      "cell_type": "code",
      "metadata": {
        "id": "dIdQXijF_qqr"
      },
      "source": [
        "# Loading results from the four scores into one DataFrame to plot results easily\n",
        "\n",
        "def load_results(name):\n",
        "    results = pd.read_csv(name+'.profile', delim_whitespace=True).merge(individuals, left_on='FID', right_on='individual')\n",
        "    results['method'] = name\n",
        "    # Standardizing the polygenic score\n",
        "    results['standardized_score'] = (results.SCORESUM - results.SCORESUM.mean()) / results.SCORESUM.std()\n",
        "    results['standardized_score_EUR'] = (results.SCORESUM - results.SCORESUM[results.super_population=='EUR'].mean()) / results.SCORESUM[results.super_population=='EUR'].std()\n",
        "    results['standardized_score_my_super_population'] = \\\n",
        "                    (results.SCORESUM - results.SCORESUM[results.super_population==my_super_population].mean()) / results.SCORESUM[results.super_population==my_super_population].std()\n",
        "    return results\n",
        "\n",
        "results = pd.concat([load_results(study) for study in ['giant_prs_0.01', 'giant_prs_5E-8', '50_assoc_0.01', '50_assoc_5E-8']])"
      ],
      "execution_count": null,
      "outputs": []
    },
    {
      "cell_type": "code",
      "source": [
        "# Plot of GIANT 0.01 PRS\n",
        "sns.boxplot(x=\"super_population\", y=\"standardized_score\",\n",
        "            data=results[results[\"method\"]==\"giant_prs_0.01\"], color=\"b\");\n",
        "plt.legend(bbox_to_anchor=(1.05, 1), loc=2, borderaxespad=0.);\n",
        "plt.title(\"GIANT 0.01 PRS\");"
      ],
      "metadata": {
        "id": "AQsTyu_354x_"
      },
      "execution_count": null,
      "outputs": []
    },
    {
      "cell_type": "code",
      "metadata": {
        "id": "jDwSGgGpDKLB"
      },
      "source": [
        "# Comparing scores across continental groups\n",
        "sns.boxplot(x=\"super_population\", y=\"standardized_score\",\n",
        "            hue=\"method\",\n",
        "            data=results);\n",
        "plt.legend(bbox_to_anchor=(1.05, 1), loc=2, borderaxespad=0.);"
      ],
      "execution_count": null,
      "outputs": []
    },
    {
      "cell_type": "code",
      "metadata": {
        "id": "N4-cXLrXVrLe"
      },
      "source": [
        "# Plotting scores on the European populations\n",
        "sns.boxplot(x=\"population\", y=\"standardized_score_EUR\",\n",
        "            hue=\"method\",\n",
        "            data=results[results.super_population=='EUR']);\n",
        "plt.legend(bbox_to_anchor=(1.05, 1), loc=2, borderaxespad=0.);"
      ],
      "execution_count": null,
      "outputs": []
    },
    {
      "cell_type": "code",
      "metadata": {
        "id": "mnc_zC1WpGjl"
      },
      "source": [
        "# Plot Q-Q for GIANT\n",
        "df = pd.read_csv(\"GIANT_height.txt\", delim_whitespace=True)\n",
        "qqman.qqplot(df[[\"P\"]], show=True)"
      ],
      "execution_count": null,
      "outputs": []
    },
    {
      "cell_type": "code",
      "metadata": {
        "id": "RamwYnN6om3F"
      },
      "source": [
        "# Display figure from paper: https://elifesciences.org/articles/39702#s1\n",
        "# Shows evidence for population stratification in GIANT dataset\n",
        "Image(\"https://iiif.elifesciences.org/lax:39702%2Felife-39702-fig2-v2.tif/full/1500,/0/default.jpg\")"
      ],
      "execution_count": null,
      "outputs": []
    },
    {
      "cell_type": "code",
      "metadata": {
        "id": "lR3bJ7nIFBdw"
      },
      "source": [
        "# Plotting scores on my continental group with my individual\n",
        "results.population[results.individual==my_individual] = 'My individual'\n",
        "sns.boxplot(x=\"population\", y=\"standardized_score_my_super_population\",\n",
        "            hue=\"method\",\n",
        "            data=results[results.super_population.isin([my_super_population, 'My individual'])]);\n",
        "plt.legend(bbox_to_anchor=(1.05, 1), loc=2, borderaxespad=0.);"
      ],
      "execution_count": null,
      "outputs": []
    },
    {
      "cell_type": "code",
      "metadata": {
        "id": "XQuWdql1Ffoi"
      },
      "source": [
        "# Plotting scores on my population\n",
        "sns.boxplot(x=\"population\", y=\"standardized_score_my_super_population\",\n",
        "            hue=\"method\",\n",
        "            data=results[results.population.isin([my_population, 'My individual'])]);\n",
        "plt.legend(bbox_to_anchor=(1.05, 1), loc=2, borderaxespad=0.);"
      ],
      "execution_count": null,
      "outputs": []
    },
    {
      "cell_type": "code",
      "metadata": {
        "id": "weUVV5wGkzBk"
      },
      "source": [
        "# Exercise: How consistent are the standardized scores for your individual?"
      ],
      "execution_count": null,
      "outputs": []
    },
    {
      "cell_type": "markdown",
      "metadata": {
        "id": "76fh_fmOvpdT"
      },
      "source": [
        "Takeaways\n",
        "- P-value threshold is important for polygenic scores\n",
        "- Low p-value variants might capture population stratification\n",
        "- Validation on held-out data"
      ]
    },
    {
      "cell_type": "code",
      "source": [],
      "metadata": {
        "id": "hkqGJBgBi-XH"
      },
      "execution_count": null,
      "outputs": []
    }
  ]
}